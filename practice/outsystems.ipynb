{
 "cells": [
  {
   "cell_type": "code",
   "execution_count": 1,
   "metadata": {},
   "outputs": [
    {
     "data": {
      "text/plain": [
       "True"
      ]
     },
     "execution_count": 1,
     "metadata": {},
     "output_type": "execute_result"
    }
   ],
   "source": [
    "from dotenv import load_dotenv\n",
    "\n",
    "load_dotenv()"
   ]
  },
  {
   "cell_type": "code",
   "execution_count": 32,
   "metadata": {},
   "outputs": [],
   "source": [
    "from langchain_openai import ChatOpenAI, OpenAIEmbeddings\n",
    "from langchain_community.vectorstores import FAISS\n",
    "from langchain.prompts import PromptTemplate\n",
    "from langchain.schema.output_parser import StrOutputParser\n",
    "from langchain_community.document_loaders import UnstructuredMarkdownLoader\n",
    "from langchain_text_splitters import MarkdownHeaderTextSplitter\n",
    "from langchain.text_splitter import RecursiveCharacterTextSplitter\n",
    "\n",
    "import os"
   ]
  },
  {
   "cell_type": "code",
   "execution_count": null,
   "metadata": {},
   "outputs": [
    {
     "name": "stdout",
     "output_type": "stream",
     "text": [
      "1533\n",
      "6086724\n"
     ]
    }
   ],
   "source": [
    "markdown_docs = []\n",
    "page_contents = \"\"\n",
    "\n",
    "directory = \"./files/outsystems\"\n",
    "\n",
    "for filename in os.listdir(directory):\n",
    "  \n",
    "  file_path = os.path.join(directory, filename)\n",
    "  if filename.endswith(\".md\"):\n",
    "    try:\n",
    "      loader = UnstructuredMarkdownLoader(file_path)\n",
    "      documents = loader.load()\n",
    "    \n",
    "      for document in documents:\n",
    "        markdown_docs.append(document.page_content)\n",
    "        page_contents += document.page_content\n",
    "    except Exception as err:\n",
    "      print(filename)\n",
    "  else:\n",
    "    print(filename)\n",
    "    \n",
    "print(len(markdown_docs))\n",
    "print(len(page_contents))"
   ]
  },
  {
   "cell_type": "code",
   "execution_count": null,
   "metadata": {},
   "outputs": [],
   "source": [
    "markdown_docs = []\n",
    "\n",
    "directory = \"./files/outsystems\"\n",
    "\n",
    "for filename in os.listdir(directory):\n",
    "  \n",
    "  file_path = os.path.join(directory, filename)\n",
    "  if filename.endswith(\".md\"):\n",
    "    try:\n",
    "      loader = UnstructuredMarkdownLoader(file_path)\n",
    "      documents = loader.load()\n",
    "      \n",
    "      text_splitter = MarkdownHeaderTextSplitter()\n",
    "      split_documents = text_splitter.split_text(documents)\n",
    "      markdown_docs.append(split_documents)\n",
    "        \n",
    "    except Exception as err:\n",
    "      print(filename)\n",
    "  else:\n",
    "    print(filename)\n",
    "    \n",
    "embeddings = OpenAIEmbeddings(model=\"text-embedding-3-small\")\n",
    "vector_store = FAISS.from_documents(split_documents, embedding=embeddings)\n",
    "retriever = vector_store.as_retriever()"
   ]
  },
  {
   "cell_type": "code",
   "execution_count": 51,
   "metadata": {},
   "outputs": [
    {
     "name": "stdout",
     "output_type": "stream",
     "text": [
      "선택적 배포를 위해 배포 영역을 설정하는 방법에 대한 설명입니다. \n",
      "\n",
      "OutSystems에서 선택적 배포를 위해 새로운 배포 영역을 생성하고, 해당 배포 영역을 웹 애플리케이션에 설정하여 특정 서버에만 배포할 수 있습니다. 예를 들어, 내부 사용자만 접근할 수 있는 웹 애플리케이션을 배포하려면 \"Intranet\"이라는 새로운 배포 영역을 생성하고, 그 안에 내부 서버만 포함시켜야 합니다. 그런 다음 웹 애플리케이션을 이 새로운 배포 영역을 사용하도록 구성하면 됩니다.\n",
      "\n",
      "**출처**\n",
      "- OutSystems 11 (O11) - Selective Deployment Using Deployment Zones\n",
      "==============================\n",
      "summary: OutSystems 11 (O11) introduces deployment zones for selective application deployment across different server environments in on-premises installations. tags: deployment zones, application deployment, server configuration, front-end servers, server isolation locale: en-us guid: 48d98b80-8502-47b9-922e-147ba2e8c708 app_type: traditional web apps, mobile apps, reactive web apps platform-version: o11 figma: https://www.figma.com/file/rEgQrcpdEWiKIORddoVydX/Managing%20the%20Applications%20Lifecycle?node-id=257:440 audience: - platform administrators - full stack developers - backend developers - infrastructure managers - tech leads outsystems-tools: - service center coverage-type: - understand - evaluate\n",
      "\n",
      "Selective Deployment Using Deployment Zones\n",
      "\n",
      "Only available in OutSystems on-premises installations.\n",
      "\n",
      "Deployment zones allow you to define the distribution of applications by front-end servers on a farm environment. One internal server, accessed by internal end users\n",
      "\n",
      "You wish to deploy a web application and make it available to internal end users only. By default, the platform deploys your web application to the default deployment zone. However, this would make it available in all servers, both the internal and the public-facing one in the DMZ network.\n",
      "\n",
      "To change the configuration of the web application so that it's only deployed to the internal server, do the following:\n",
      "\n",
      "Create a new deployment zone (for example, named \"Intranet\") containing only the internal server.\n",
      "\n",
      "Note: The Deployment Zone Address configuration parameter, which is mandatory when creating the deployment zone, depends on several factors, like your network architecture. See Deployment Zones Reference for more information on this parameter.\n",
      "\n",
      "Configure the web application to use the new deployment zone. One internal server, serving internal only web applications accessed by internal end users.\n",
      "\n",
      "You wish to deploy some web applications that are only available to internal end users and some other web application that are exclusively available to external end users. By default, a web application is deployed to the default deployment zone. However, this would make it available only in the internal server in the Intranet network.\n",
      "\n",
      "To change the configuration of a web application so that it's only deployed to the public-facing server, do the following:\n",
      "\n",
      "Create a new deployment zone (for example, named \"Public\") containing only the public-facing server.\n",
      "\n",
      "Note: The Deployment Zone Address configuration parameter, which is mandatory when creating the deployment zone, depends on several factors, like your network architecture. See Deployment Zones Reference for more information on this parameter.\n",
      "\n",
      "Configure the web application to use the new deployment zone. Default deployment zone\n",
      "\n",
      "The default deployment zone configuration controls where OutSystems deploys your new modules and applications. OutSystems creates a deployment zone named \"Global\" on a first install, set as the default deployment zone.\n",
      "\n",
      "As a rule, when you create a new application and publish it for the first time, the platform deploys its modules to the default deployment zone. Once you have published a module or application for the first time, you can select any other deployment zone as its deployment target.\n",
      "\n",
      "Creating a new application module associates it automatically with the same deployment zone as the other modules in that application.\n",
      "\n",
      "The OutSystems applications provided in the System Components solution must be available in **all the front-end servers** of your OutSystems environment. Make sure that you only deploy these applications to deployment zones that include all the front-end servers in your environment.\n"
     ]
    }
   ],
   "source": [
    "prompt_template = PromptTemplate.from_template(\n",
    "        \"\"\"You are an assistant for question-answering tasks.\n",
    "    Use the following pieces of retrieved context to answer the question.\n",
    "    If you don't know the answer, just say that you don't know.\n",
    "    Be sure to include your source and page numbers in your answer.\n",
    "    Answer in Korean.\n",
    "\n",
    "    #Example Format:\n",
    "    brief summary of the answer\n",
    "    answer to the question\n",
    "    \n",
    "    **출처**\n",
    "    - page title(English)\n",
    "    \n",
    "    #Question : {question}\n",
    "\n",
    "    #Context: {context}\n",
    "    \n",
    "    #Answer:\"\"\"\n",
    "    )\n",
    "\n",
    "model = ChatOpenAI(model=\"gpt-4o-mini\", temperature=0)\n",
    "\n",
    "q = \"How do I create an select box?\"\n",
    "documents = retriever.get_relevant_documents(q)\n",
    "context = \" \".join(document.page_content for document in documents)\n",
    "\n",
    "chain = prompt_template | model | StrOutputParser()\n",
    "\n",
    "message = chain.invoke({\"context\": context, \"question\": q})\n",
    "print(message)\n",
    "print(\"==============================\")\n",
    "print(context)"
   ]
  }
 ],
 "metadata": {
  "kernelspec": {
   "display_name": "venv",
   "language": "python",
   "name": "python3"
  },
  "language_info": {
   "codemirror_mode": {
    "name": "ipython",
    "version": 3
   },
   "file_extension": ".py",
   "mimetype": "text/x-python",
   "name": "python",
   "nbconvert_exporter": "python",
   "pygments_lexer": "ipython3",
   "version": "3.12.0"
  }
 },
 "nbformat": 4,
 "nbformat_minor": 2
}
