{
 "cells": [
  {
   "cell_type": "code",
   "execution_count": 14,
   "metadata": {},
   "outputs": [
    {
     "data": {
      "text/plain": [
       "True"
      ]
     },
     "execution_count": 14,
     "metadata": {},
     "output_type": "execute_result"
    }
   ],
   "source": [
    "from dotenv import load_dotenv\n",
    "\n",
    "load_dotenv()"
   ]
  },
  {
   "cell_type": "markdown",
   "metadata": {},
   "source": [
    "LangChain은 도구(Tools)라는 기능을 제공해 준다.\n",
    "\n",
    "도구는 LLM이 다양한 기능을 수행할 수 있도록 도와주는 유틸리티이다.\n",
    "\n",
    "예: 인터넷 검색, 프로그래밍 언어 실행, SQL 데이터베이스 조회 등\n",
    "\n",
    "Tools: https://python.langchain.com/docs/integrations/tools/"
   ]
  },
  {
   "cell_type": "code",
   "execution_count": 13,
   "metadata": {},
   "outputs": [],
   "source": [
    "from langchain_core.tools import Tool\n",
    "from langchain_experimental.tools import PythonREPLTool"
   ]
  },
  {
   "cell_type": "markdown",
   "metadata": {},
   "source": [
    "도구 관련 필요 라이브러리 불러오기"
   ]
  },
  {
   "cell_type": "code",
   "execution_count": null,
   "metadata": {
    "vscode": {
     "languageId": "bat"
    }
   },
   "outputs": [],
   "source": [
    "pip install langchain_experimental"
   ]
  },
  {
   "cell_type": "markdown",
   "metadata": {},
   "source": [
    "`langchain_experimental.tools`을 불러올 수 없으면\n",
    "\n",
    "`pip install langchain_experimental` 명령어를 실행해서 설치한다."
   ]
  },
  {
   "cell_type": "code",
   "execution_count": 12,
   "metadata": {},
   "outputs": [
    {
     "data": {
      "text/plain": [
       "'300\\n'"
      ]
     },
     "execution_count": 12,
     "metadata": {},
     "output_type": "execute_result"
    }
   ],
   "source": [
    "python_tool = PythonREPLTool()\n",
    "\n",
    "python_str_code = \"print(100 + 200)\"\n",
    "python_tool.invoke(python_str_code) # '300\\n'"
   ]
  },
  {
   "cell_type": "markdown",
   "metadata": {},
   "source": [
    "`PythonREPLTool`은 문자열을 파이썬 코드로 변환 후 실행까지 수행해주는 도구이다."
   ]
  },
  {
   "cell_type": "code",
   "execution_count": 41,
   "metadata": {},
   "outputs": [],
   "source": [
    "def execute_python_str_code(code):\n",
    "  print(\"#Code:\")\n",
    "  print(f\"{code}\\n\")\n",
    "  \n",
    "  print(\"#Execute:\")\n",
    "  return python_tool.invoke(code)"
   ]
  },
  {
   "cell_type": "markdown",
   "metadata": {},
   "source": [
    "langChain의 `RunnableLambda`로 실행할 사용자 정의 함수 정의"
   ]
  },
  {
   "cell_type": "code",
   "execution_count": 24,
   "metadata": {},
   "outputs": [
    {
     "data": {
      "text/plain": [
       "'300\\n'"
      ]
     },
     "execution_count": 24,
     "metadata": {},
     "output_type": "execute_result"
    }
   ],
   "source": [
    "execute_python_str_code(\"print(100 + 200)\")"
   ]
  },
  {
   "cell_type": "markdown",
   "metadata": {},
   "source": [
    "사용자 정의 함수 동작 확인"
   ]
  },
  {
   "cell_type": "code",
   "execution_count": 42,
   "metadata": {},
   "outputs": [
    {
     "name": "stdout",
     "output_type": "stream",
     "text": [
      "#Code:\n",
      "import random\n",
      "\n",
      "def generate_lotto_numbers():\n",
      "    return sorted(random.sample(range(1, 46), 6))\n",
      "\n",
      "if __name__ == \"__main__\":\n",
      "    lotto_numbers = generate_lotto_numbers()\n",
      "    print(\"로또 번호:\", lotto_numbers)\n",
      "\n",
      "#Execute:\n",
      "\n"
     ]
    }
   ],
   "source": [
    "from langchain_core.prompts import ChatPromptTemplate\n",
    "from langchain_openai import ChatOpenAI\n",
    "from langchain.schema.output_parser import StrOutputParser\n",
    "from langchain_core.runnables import RunnableLambda\n",
    "\n",
    "prompt = ChatPromptTemplate.from_messages(\n",
    "  [\n",
    "    (\n",
    "      \"system\",\n",
    "      \"You are Raymond Hetting, an expert python programmer.\\n\"\n",
    "      \"Return only the code, no intro, no explanation, no chatty, no markdown, no code block, no nothing. Just the code.\"\n",
    "    ),\n",
    "    (\"human\", \"{user_input}\")\n",
    "  ]\n",
    ")\n",
    "\n",
    "llm = ChatOpenAI(model=\"gpt-4o-mini\", temperature=0)\n",
    "\n",
    "chain = prompt | llm | StrOutputParser() | RunnableLambda(execute_python_str_code)\n",
    "user_input = \"로또 번호 생성기를 출력하는 코드를 작성하세요.\"\n",
    "answer = chain.invoke(user_input)\n",
    "\n",
    "print(answer)"
   ]
  },
  {
   "cell_type": "markdown",
   "metadata": {},
   "source": [
    "1. `StrOutputParser()`에서 LLM이 생성한 Python 코드를 문자열로 반환한다.\n",
    "\n",
    "2. 반환 받은 문자열 형태의 파이썬 코드를 `RunnableLambda`를 이용해서 사용자 정의 함수에 값을 넘겨준다.\n",
    "\n",
    "3. 사용자 정의 함수에서 `PythonREPLTool` 도구로 실행한다."
   ]
  }
 ],
 "metadata": {
  "kernelspec": {
   "display_name": "venv",
   "language": "python",
   "name": "python3"
  },
  "language_info": {
   "codemirror_mode": {
    "name": "ipython",
    "version": 3
   },
   "file_extension": ".py",
   "mimetype": "text/x-python",
   "name": "python",
   "nbconvert_exporter": "python",
   "pygments_lexer": "ipython3",
   "version": "3.12.0"
  }
 },
 "nbformat": 4,
 "nbformat_minor": 2
}
