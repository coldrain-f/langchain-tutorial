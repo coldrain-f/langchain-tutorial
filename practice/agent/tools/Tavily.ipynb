{
 "cells": [
  {
   "cell_type": "markdown",
   "metadata": {},
   "source": [
    "Tavily는 웹 검색을 도와주는 유틸리티 도구이다.\n",
    "\n",
    "사용하기 위해서는 API 키를 발급 받아야 한다.\n",
    "\n",
    "API 발급 주소: https://app.tavily.com/\n",
    "\n",
    "무료 키는 2025-02-13(목) 기준, 분당 100개 요청, 월 1,000번의 요청으로 제한된다.\n",
    "\n",
    ".env 파일에 API 키를 설정해준다.\n",
    "\n",
    "TAVILY_API_KEY=<당신의_API_KEY>"
   ]
  },
  {
   "cell_type": "code",
   "execution_count": 3,
   "metadata": {},
   "outputs": [
    {
     "data": {
      "text/plain": [
       "True"
      ]
     },
     "execution_count": 3,
     "metadata": {},
     "output_type": "execute_result"
    }
   ],
   "source": [
    "from dotenv import load_dotenv\n",
    "\n",
    "load_dotenv()"
   ]
  },
  {
   "cell_type": "markdown",
   "metadata": {},
   "source": [
    "환경 변수 로드"
   ]
  },
  {
   "cell_type": "markdown",
   "metadata": {},
   "source": [
    "### TavilySearchResults\n",
    "\n",
    "Tavily 검색 API를 쿼리하고 JSON 형식의 결과를 반환합니다.\n",
    "포괄적이고 정확하며 신뢰할 수 있는 결과에 최적화된 검색 엔진입니다.\n",
    "현재 이벤트에 대한 질문에 답변할 때 유용합니다.\n",
    "\n",
    "#### 주요 매개변수\n",
    "\n",
    "- max_results (int): 반환할 최대 검색 결과 수 (기본값: 5)\n",
    "- search_depth (str): 검색 깊이 (\"basic\" 또는 \"advanced\")\n",
    "- include_domains (List[str]): 검색 결과에 포함할 도메인 목록\n",
    "- exclude_domains (List[str]): 검색 결과에서 제외할 도메인 목록\n",
    "- include_answer (bool): 원본 쿼리에 대한 짧은 답변 포함 여부\n",
    "- include_raw_content (bool): 각 사이트의 정제된 HTML 콘텐츠 포함 여부\n",
    "- include_images (bool): 쿼리 관련 이미지 목록 포함 여부\n",
    "\n",
    "#### 반환 값\n",
    "\n",
    "검색 결과를 포함하는 JSON 형식의 문자열(url, content)"
   ]
  },
  {
   "cell_type": "code",
   "execution_count": 4,
   "metadata": {},
   "outputs": [],
   "source": [
    "from langchain_community.tools.tavily_search import TavilySearchResults\n",
    "\n",
    "tavily_search_tool = TavilySearchResults(\n",
    "  max_results=5, \n",
    "  include_answer=True,\n",
    "  include_raw_content=True,\n",
    "  include_domains=[\"github.io\", \"wikidocs.net\"]\n",
    ")"
   ]
  },
  {
   "cell_type": "markdown",
   "metadata": {},
   "source": [
    "`max_results`가 5로 설정되어 있어도 관련성이 없어서 5개 미만으로 검색되면 \n",
    "\n",
    "5개가 안 나올 수도 있다."
   ]
  },
  {
   "cell_type": "code",
   "execution_count": null,
   "metadata": {},
   "outputs": [
    {
     "data": {
      "text/plain": [
       "[{'url': 'https://uroheeze.github.io/?wUsotHwBe+',\n",
       "  'content': '남녀공용 애니메이션 Stardew Valley 티셔츠, 빈티지 상의, 주니모스 라멘, 미적인 티셔츠, 고품질 코튼 티, 카와이 셔츠. 4.2 ౹ 49 개 판매. 원가 ₩24,000.'}]"
      ]
     },
     "execution_count": 5,
     "metadata": {},
     "output_type": "execute_result"
    }
   ],
   "source": [
    "tavily_search_tool.invoke({\"query\": \"Stardew Valley 게임에 대해서 알려주세요.\"})"
   ]
  }
 ],
 "metadata": {
  "kernelspec": {
   "display_name": "venv",
   "language": "python",
   "name": "python3"
  },
  "language_info": {
   "codemirror_mode": {
    "name": "ipython",
    "version": 3
   },
   "file_extension": ".py",
   "mimetype": "text/x-python",
   "name": "python",
   "nbconvert_exporter": "python",
   "pygments_lexer": "ipython3",
   "version": "3.12.0"
  }
 },
 "nbformat": 4,
 "nbformat_minor": 2
}
