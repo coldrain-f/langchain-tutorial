{
 "cells": [
  {
   "cell_type": "markdown",
   "metadata": {},
   "source": [
    "Tavily는 웹 검색을 도와주는 유틸리티 도구이다.\n",
    "\n",
    "사용하기 위해서는 API 키를 발급 받아야 한다.\n",
    "\n",
    "API 발급 주소: https://app.tavily.com/\n",
    "\n",
    "무료 키는 2025-02-13(목) 기준, 분당 100개 요청, 월 1,000번의 요청으로 제한된다.\n",
    "\n",
    ".env 파일에 API 키를 설정해준다.\n",
    "\n",
    "TAVILY_API_KEY=<당신의_API_KEY>"
   ]
  },
  {
   "cell_type": "code",
   "execution_count": 3,
   "metadata": {},
   "outputs": [
    {
     "data": {
      "text/plain": [
       "True"
      ]
     },
     "execution_count": 3,
     "metadata": {},
     "output_type": "execute_result"
    }
   ],
   "source": [
    "from dotenv import load_dotenv\n",
    "\n",
    "load_dotenv()"
   ]
  },
  {
   "cell_type": "markdown",
   "metadata": {},
   "source": [
    "환경 변수 로드"
   ]
  },
  {
   "cell_type": "markdown",
   "metadata": {},
   "source": [
    "### TavilySearchResults\n",
    "\n",
    "Tavily 검색 API를 쿼리하고 JSON 형식의 결과를 반환합니다.\n",
    "포괄적이고 정확하며 신뢰할 수 있는 결과에 최적화된 검색 엔진입니다.\n",
    "현재 이벤트에 대한 질문에 답변할 때 유용합니다.\n",
    "\n",
    "#### 주요 매개변수\n",
    "\n",
    "- max_results (int): 반환할 최대 검색 결과 수 (기본값: 5)\n",
    "- search_depth (str): 검색 깊이 (\"basic\" 또는 \"advanced\")\n",
    "- include_domains (List[str]): 검색 결과에 포함할 도메인 목록\n",
    "- exclude_domains (List[str]): 검색 결과에서 제외할 도메인 목록\n",
    "- include_answer (bool): 원본 쿼리에 대한 짧은 답변 포함 여부\n",
    "- include_raw_content (bool): 각 사이트의 정제된 HTML 콘텐츠 포함 여부\n",
    "- include_images (bool): 쿼리 관련 이미지 목록 포함 여부\n",
    "\n",
    "#### 반환 값\n",
    "\n",
    "검색 결과를 포함하는 JSON 형식의 문자열(url, content)"
   ]
  },
  {
   "cell_type": "code",
   "execution_count": 4,
   "metadata": {},
   "outputs": [],
   "source": [
    "from langchain_community.tools.tavily_search import TavilySearchResults\n",
    "\n",
    "tavily_search_tool = TavilySearchResults(\n",
    "  max_results=5, \n",
    "  include_answer=True,\n",
    "  include_raw_content=True,\n",
    "  include_domains=[\"github.io\", \"wikidocs.net\"]\n",
    ")"
   ]
  },
  {
   "cell_type": "markdown",
   "metadata": {},
   "source": [
    "`max_results`가 5로 설정되어 있어도 관련성이 없어서 5개 미만으로 검색되면 \n",
    "\n",
    "5개가 안 나올 수도 있다."
   ]
  },
  {
   "cell_type": "code",
   "execution_count": 6,
   "metadata": {},
   "outputs": [
    {
     "data": {
      "text/plain": [
       "[{'url': 'https://mouseypounds.github.io/stardew-checkup/',\n",
       "  'content': \"Stardew Checkup About. This app checks a Stardew Valley save file for various achievements and milestones and lets you know what is missing. Currently it checks for progress on 46 achievements as well as other progression and completion mechanics including Grandpa's evaluation, Ginger Island upgrades, Perfection, and social relationships.\"},\n",
       " {'url': 'https://eduanttunes.github.io/stardew_valley_ids/',\n",
       "  'content': 'Lista de IDs de itens do jogo Stardew Valley. Stardew Valley IDs de itens. Lista por: Edu Anttunes. Agora com os itens do update 1.5. ID Foto Item [2] Pedra (Stone) [16] Raiz-forte (Wild Horseradish) ... (Stardew Hero Trophy) [472] Sementes de chirívia (Parsnip Seeds) [473] Mudas de feijão (Bean Starter) [474] Sementes de Couve-flor'},\n",
       " {'url': 'https://mouseypounds.github.io/stardew-predictor/',\n",
       "  'content': '15 Jan 2021 - v4.0.4 - Updating Night event chances for Stardew Valley 1.5.3; 9 Jan 2021 - v4.0.3 - No code changes, only clarifications on some mechanics. 30 Dec 2020 - v4.0.2 - Made geode fix only apply to 1.5 saves; 28 Dec 2020 - v4.0.1 - Fixed geode predictions; 22 Dec 2020 - v4.0 - Initial support for Stardew Valley 1.5'},\n",
       " {'url': 'https://lxlonlyn.github.io/stardew-checkup/',\n",
       "  'content': '26 Nov 2019 - v3.0 - Support for Stardew Valley 1.4; 15 Aug 2019 - v2.5.1 - Fixed duplicate Social output; PR from debashisbiswas; 22 June 2019 - v2.5 - Added Introductions quest summary to Social; 22 Feb 2019 - v2.4.1 - Fixed bug with detecting valid farmhands on MP saves; 30 Jan 2019 - v2.4 - Improved support for iOS save files'},\n",
       " {'url': 'https://xandjiji.github.io/stardew-helper/',\n",
       "  'content': 'The best all-in-one Stardew Valley App. Features a Community Bundle checklist, NPC location tool, detailed information for over 1,000 itens and more! Settings. Appearence. Discord Light. Discord Dark. Bulbasaur. Hanami. Tommy Vercetti. Kill Bill. Orange Orange. Import/Export data. Reset data. Reset clear! made'}]"
      ]
     },
     "execution_count": 6,
     "metadata": {},
     "output_type": "execute_result"
    }
   ],
   "source": [
    "tavily_search_tool.invoke({\"query\": \"Stardew Valley 게임에 대해서 알려주세요.\"})"
   ]
  }
 ],
 "metadata": {
  "kernelspec": {
   "display_name": "venv",
   "language": "python",
   "name": "python3"
  },
  "language_info": {
   "codemirror_mode": {
    "name": "ipython",
    "version": 3
   },
   "file_extension": ".py",
   "mimetype": "text/x-python",
   "name": "python",
   "nbconvert_exporter": "python",
   "pygments_lexer": "ipython3",
   "version": "3.12.0"
  }
 },
 "nbformat": 4,
 "nbformat_minor": 2
}
