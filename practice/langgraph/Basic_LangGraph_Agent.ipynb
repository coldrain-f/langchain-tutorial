{
 "cells": [
  {
   "cell_type": "code",
   "execution_count": 89,
   "metadata": {},
   "outputs": [
    {
     "data": {
      "text/plain": [
       "True"
      ]
     },
     "execution_count": 89,
     "metadata": {},
     "output_type": "execute_result"
    }
   ],
   "source": [
    "from typing import Annotated\n",
    "from typing_extensions import TypedDict\n",
    "\n",
    "from langgraph.graph import StateGraph, START, END\n",
    "from langgraph.graph.message import add_messages\n",
    "\n",
    "from langchain_community.tools.tavily_search import TavilySearchResults\n",
    "from langchain_openai import ChatOpenAI\n",
    "\n",
    "\n",
    "from dotenv import load_dotenv\n",
    "\n",
    "load_dotenv()"
   ]
  },
  {
   "cell_type": "markdown",
   "metadata": {},
   "source": [
    "환경 변수 로드"
   ]
  },
  {
   "cell_type": "code",
   "execution_count": 90,
   "metadata": {},
   "outputs": [],
   "source": [
    "class State(TypedDict):\n",
    "    messages: Annotated[list, add_messages]"
   ]
  },
  {
   "cell_type": "markdown",
   "metadata": {},
   "source": [
    "상태 정의"
   ]
  },
  {
   "cell_type": "code",
   "execution_count": 91,
   "metadata": {},
   "outputs": [],
   "source": [
    "tavily_search_tool = TavilySearchResults(\n",
    "  max_results=5, \n",
    "  include_answer=True,\n",
    "  include_raw_content=True,\n",
    "  include_domains=[\"github.io\", \"wikidocs.net\"]\n",
    ")\n",
    "\n",
    "tools = [tavily_search_tool]"
   ]
  },
  {
   "cell_type": "markdown",
   "metadata": {},
   "source": [
    "사용할 도구 정의"
   ]
  },
  {
   "cell_type": "code",
   "execution_count": 92,
   "metadata": {},
   "outputs": [],
   "source": [
    "llm = ChatOpenAI(model=\"gpt-4o-mini\")\n",
    "\n",
    "llm_with_tools = llm.bind_tools(tools)"
   ]
  },
  {
   "cell_type": "markdown",
   "metadata": {},
   "source": [
    "LLM에 도구 바인딩"
   ]
  },
  {
   "cell_type": "code",
   "execution_count": 93,
   "metadata": {},
   "outputs": [],
   "source": [
    "from langgraph.prebuilt import ToolNode, tools_condition\n",
    "\n",
    "def call_llm(state: State):\n",
    "    answer = llm_with_tools.invoke(state[\"messages\"])\n",
    "    return {\"messages\": [answer]}\n",
    "\n",
    "tools = ToolNode(tools=[tavily_search_tool])"
   ]
  },
  {
   "cell_type": "markdown",
   "metadata": {},
   "source": [
    "노드 정의\n",
    "\n",
    "나중에 `state[\"messages\"]`에 무슨 값이 찍히는지 확인 필요."
   ]
  },
  {
   "cell_type": "code",
   "execution_count": 94,
   "metadata": {},
   "outputs": [
    {
     "data": {
      "text/plain": [
       "<langgraph.graph.state.StateGraph at 0x1b89d3e6330>"
      ]
     },
     "execution_count": 94,
     "metadata": {},
     "output_type": "execute_result"
    }
   ],
   "source": [
    "graph_builder = StateGraph(State)\n",
    "\n",
    "graph_builder.add_node(\"call_llm\", call_llm)\n",
    "graph_builder.add_node(\"tools\", tools) # 이름이 tools가 아니면 에러?"
   ]
  },
  {
   "cell_type": "markdown",
   "metadata": {},
   "source": [
    "기본적인 원리:\n",
    "\n",
    "call_llm 노드가 tool_node에게 \"웹 검색\" 도구를 사용해 주세요.라고 알리면\n",
    "\n",
    "tool_node는 \"웹 검색\" 도구를 사용해서 웹에서 검색 후 call_llm에게 다시 전달해준다."
   ]
  },
  {
   "cell_type": "code",
   "execution_count": 95,
   "metadata": {},
   "outputs": [
    {
     "data": {
      "text/plain": [
       "<langgraph.graph.state.StateGraph at 0x1b89d3e6330>"
      ]
     },
     "execution_count": 95,
     "metadata": {},
     "output_type": "execute_result"
    }
   ],
   "source": [
    "graph_builder.add_conditional_edges(\n",
    "    \"call_llm\",\n",
    "    tools_condition,\n",
    ")"
   ]
  },
  {
   "cell_type": "markdown",
   "metadata": {},
   "source": [
    "조건부 엣지(Conditional Edges) 추가\n",
    "\n",
    "조건부 엣지를 추가하면 call_llm이 도구를 사용할지 말지를 판단하게 된다."
   ]
  },
  {
   "cell_type": "code",
   "execution_count": 96,
   "metadata": {},
   "outputs": [
    {
     "data": {
      "text/plain": [
       "<langgraph.graph.state.StateGraph at 0x1b89d3e6330>"
      ]
     },
     "execution_count": 96,
     "metadata": {},
     "output_type": "execute_result"
    }
   ],
   "source": [
    "graph_builder.add_edge(\"tools\", \"call_llm\")\n",
    "graph_builder.add_edge(START, \"call_llm\")\n",
    "graph_builder.add_edge(\"call_llm\", END)"
   ]
  },
  {
   "cell_type": "markdown",
   "metadata": {},
   "source": [
    "그래프 간선 연결\n",
    "\n",
    "- `graph_builder.add_edge(\"tools\", \"call_llm\")`\n",
    "- `graph_builder.add_edge(\"call_llm\", \"tools\")`\n",
    "\n",
    "테스트 결과 순서 상관 없음."
   ]
  },
  {
   "cell_type": "code",
   "execution_count": 97,
   "metadata": {},
   "outputs": [],
   "source": [
    "graph = graph_builder.compile()"
   ]
  },
  {
   "cell_type": "markdown",
   "metadata": {},
   "source": [
    "그래프 컴파일"
   ]
  },
  {
   "cell_type": "code",
   "execution_count": 98,
   "metadata": {},
   "outputs": [
    {
     "data": {
      "image/png": "[encoded data removed]",
      "text/plain": [
       "<IPython.core.display.Image object>"
      ]
     },
     "metadata": {},
     "output_type": "display_data"
    }
   ],
   "source": [
    "from IPython.display import Image, display\n",
    "\n",
    "display(Image(graph.get_graph().draw_mermaid_png()))"
   ]
  },
  {
   "cell_type": "markdown",
   "metadata": {},
   "source": [
    "그래프 시각화"
   ]
  },
  {
   "cell_type": "code",
   "execution_count": 99,
   "metadata": {},
   "outputs": [],
   "source": [
    "from langchain_core.runnables import RunnableConfig\n",
    "\n",
    "config = RunnableConfig(recursion_limit=10)"
   ]
  },
  {
   "cell_type": "markdown",
   "metadata": {},
   "source": [
    "call_llm → tools → call_llm → tools ... (무한 루프)를 방지하기 위해서\n",
    "\n",
    "`RunnableConfig`를 사용해서 `recursion_limit`값을 지정해 준다.\n",
    "\n",
    "여기서는 최대 10개의 노드까지 방문하도록 설정.\n",
    "\n",
    "START(1) → call_llm(2) → tools(3) → call_llm(4) → END(5)"
   ]
  },
  {
   "cell_type": "code",
   "execution_count": 100,
   "metadata": {},
   "outputs": [
    {
     "name": "stdout",
     "output_type": "stream",
     "text": [
      "content='' additional_kwargs={'tool_calls': [{'id': 'call_apTenP7og5ehPUWPAJGGO5av', 'function': {'arguments': '{\"query\":\"스타듀밸리 게임\"}', 'name': 'tavily_search_results_json'}, 'type': 'function'}], 'refusal': None} response_metadata={'token_usage': {'completion_tokens': 25, 'prompt_tokens': 94, 'total_tokens': 119, 'completion_tokens_details': {'accepted_prediction_tokens': 0, 'audio_tokens': 0, 'reasoning_tokens': 0, 'rejected_prediction_tokens': 0}, 'prompt_tokens_details': {'audio_tokens': 0, 'cached_tokens': 0}}, 'model_name': 'gpt-4o-mini-2024-07-18', 'system_fingerprint': 'fp_13eed4fce1', 'finish_reason': 'tool_calls', 'logprobs': None} id='run-3677b24f-e51f-4f4b-a3b6-2fc8b96685fa-0' tool_calls=[{'name': 'tavily_search_results_json', 'args': {'query': '스타듀밸리 게임'}, 'id': 'call_apTenP7og5ehPUWPAJGGO5av', 'type': 'tool_call'}] usage_metadata={'input_tokens': 94, 'output_tokens': 25, 'total_tokens': 119, 'input_token_details': {'audio': 0, 'cache_read': 0}, 'output_token_details': {'audio': 0, 'reasoning': 0}}\n",
      "content='[{\"url\": \"https://mouseypounds.github.io/ppja-ref/machines.html\", \"content\": \"Stardew Valley base game version 1.5.1. Chocolatier version 1.0.5 (Nexus page) [PFM] Ancient Crops - Artisan Valley Add-on version 2.1.3 (Nexus page) P [PFM]\"}, {\"url\": \"https://fkdl0048.github.io/daily/Graveyard-Keeper_Review/\", \"content\": \"레이지 베어 게임즈의 그레이브야드 키퍼라는 게임이다. image. 스타듀밸리와 크게 다르지 않은 게임으로 알고 시작했는데 연령 제한이 19세인 이유가 있는 게임이다.\"}, {\"url\": \"https://mouseypounds.github.io/stardew-predictor/\", \"content\": \"This app simulates the random number generator used in Stardew Valley and makes predictions about the game after reading the save file.\"}, {\"url\": \"https://mouseypounds.github.io/stardew-checkup/\", \"content\": \"Stardew Checkup. About. This app checks a Stardew Valley save file for various achievements and milestones and lets you know what is missing.Missing:  게임 | Show results with:게임\"}, {\"url\": \"https://mouseypounds.github.io/ppja-ref/crops.html\", \"content\": \"Additionally there are some buttons which will show or hide multiple sources at once. Stardew Valley base game version 1.5.1. Ancient Crops version 2.1.3\"}]' name='tavily_search_results_json' id='27c4dd38-bf11-4b30-8c52-de724faea09e' tool_call_id='call_apTenP7og5ehPUWPAJGGO5av' artifact={'query': '스타듀밸리 게임', 'follow_up_questions': None, 'answer': \"The latest version of the base game of Stardew Valley is 1.5.1, and the most recent version of the Ancient Crops add-on is 2.1.3. There are also tools available such as Stardew Predictor, which simulates the game's random number generator, and Stardew Checkup, which analyzes save files to identify missing achievements and milestones.\", 'images': [], 'results': [{'url': 'https://mouseypounds.github.io/ppja-ref/machines.html', 'title': \"Mousey's PPJA (and Friends) Reference: Machines\", 'content': 'Stardew Valley base game version 1.5.1. Chocolatier version 1.0.5 (Nexus page) [PFM] Ancient Crops - Artisan Valley Add-on version 2.1.3 (Nexus page) P [PFM]', 'score': 0.3478034, 'raw_content': \"Mousey's PPJA (and Friends) Reference: Machines\\nA summary of machines with production rules from various sources. In the list below, the checkboxes can be used to show or hide\\ninformation specific to that particular source; the symbol Ⓟ indicates an official PPJA mod. Additionally there\\nare some buttons which will show or hide multiple sources at once.\\nNote that filtering is per production rule; the individual machines will always display even if all of their rules are hidden. The base game\\nSeedmaker recipe uses Poppy as an example but actually applies to a large variety of crops & seeds.\\n\\nInputs related to an entire category (e.g. Any Fruit) or tag (e.g. Lake Fish) will accept both\\nmod and base game items; this summary will have a tooltip listing relevant items from all sources, but these tooltips will not change based on the mod filtering used.\\nIn general, value and profit calculations are not attempted for these recipes, with the exceptions of \\nthe value of small cow Milk used for Any Milk and\\nthe value of small Egg used for Any Egg. Similarly, most recipes can accept ingredients of\\nany quality and in these cases\\nthe value of the basic (no-star) version is used.\\nThere are two types of profit listed: Profit (Item) is purely based on the difference between the values of the ingredients\\nand products while Profit (Hr) takes the production time into account and divides the per-item profit by the number of hours the\\nmachine takes. The latter is rounded to two decimal places. Machines which only change the quality but return the same base item (similar to Casks) are\\nnot currently documented correctly and will list zero profit.\\n\\nNavigation\\nAlembic\\nFrom Artisan Valley Machine Goods version 3.0.20\\nArtisanal Soda Maker\\nFrom [JA] Artisanal Soda Makers version 1.3.3\\nBaker's Mixer\\nFrom Baker's Life Json Asset Items version 1.1.3\\nBaker's Oven\\nFrom Baker's Life Json Asset Items version 1.1.3\\nBee House\\nFrom Stardew Valley (base game) version 1.5.1\\nButter Churn\\nFrom Artisan Valley Machine Goods version 3.0.20\\nCanning Machine\\nFrom Fresh Meat version 3.0.3\\nCarbonator\\nFrom [JA] Artisanal Soda Makers version 1.3.3\\nCharcoal Kiln\\nFrom Stardew Valley (base game) version 1.5.1\\nCheese Press\\nFrom Stardew Valley (base game) version 1.5.1\\nChocolatier's Cauldron\\nFrom Chocolatier version 1.0.5\\nCola Maker\\nFrom [JA] Artisanal Soda Makers version 1.3.3\\nCream Soda Maker\\nFrom [JA] Artisanal Soda Makers version 1.3.3\\nDNA Synthesizer\\nFrom Fresh Meat version 3.0.3\\nDehydrator\\nFrom Artisan Valley Machine Goods version 3.0.20\\nDryer\\nFrom Farmer to Florist version 3.0.9\\nDrying Rack\\nFrom Artisan Valley Machine Goods version 3.0.20\\nEspresso Machine\\nFrom Artisan Valley Machine Goods version 3.0.20\\nExtruder\\nFrom Artisan Valley Machine Goods version 3.0.20\\nFertilizer Mixer\\nFrom Manure Pack for Bulls version 1.0.2\\nForeign Cask\\nFrom Artisan Valley Machine Goods version 3.0.20\\nFurnace\\nFrom Stardew Valley (base game) version 1.5.1\\nGlass Jar\\nFrom Artisan Valley Machine Goods version 3.0.20\\nGrinder\\nFrom Artisan Valley Machine Goods version 3.0.20\\nIce Cream Machine\\nFrom Artisan Valley Machine Goods version 3.0.20\\nInfuser\\nFrom Artisan Valley Machine Goods version 3.0.20\\nJuicer\\nFrom Artisan Valley Machine Goods version 3.0.20\\nKeg\\nFrom Stardew Valley (base game) version 1.5.1\\nLoom\\nFrom Stardew Valley (base game) version 1.5.1\\nManure Grinder\\nFrom Manure Pack for Bulls version 1.0.2\\nMarble Soda Machine\\nFrom [JA] Fizzy Drinks version 2.2\\nMayonnaise Machine\\nFrom Stardew Valley (base game) version 1.5.1\\nMeat Press\\nFrom Fresh Meat version 3.0.3\\nMushroom Box\\nFrom Stardew Valley (base game) version 1.5.1\\nOil Maker\\nFrom Stardew Valley (base game) version 1.5.1\\nPepper Blender\\nFrom Artisan Valley Machine Goods version 3.0.20\\nPerfumery\\nFrom Farmer to Florist version 3.0.9\\nPreserves Jar\\nFrom Stardew Valley (base game) version 1.5.1\\nRecycling Machine\\nFrom Stardew Valley (base game) version 1.5.1\\nSeed Maker\\nFrom Stardew Valley (base game) version 1.5.1\\nShaved Ice Machine\\nFrom [JA] Shaved Ice & Frozen Treats version 1.2.2\\nSlime Egg-Press\\nFrom Stardew Valley (base game) version 1.5.1\\nSmoker\\nFrom Artisan Valley Machine Goods version 3.0.20\\nSoap Maker\\nFrom Farmer to Florist version 3.0.9\\nSoap Press\\nFrom Artisan Valley Machine Goods version 3.0.20\\nSoda Machine\\nFrom Stardew Valley (base game) version 1.5.1\\nSorbet Machine\\nFrom Artisan Valley Machine Goods version 3.0.20\\nStatue Of Perfection\\nFrom Stardew Valley (base game) version 1.5.1\\nStill\\nFrom Artisan Valley Machine Goods version 3.0.20\\nSyrup Maker\\nFrom [JA] Artisanal Soda Makers version 1.3.3\\nVinegar Cask\\nFrom Artisan Valley Machine Goods version 3.0.20\\nWax Barrel\\nFrom Artisan Valley Machine Goods version 3.0.20\\nWorm Bin\\nFrom Stardew Valley (base game) version 1.5.1\\nYogurt Jar\\nFrom Artisan Valley Machine Goods version 3.0.20\\n\"}, {'url': 'https://fkdl0048.github.io/daily/Graveyard-Keeper_Review/', 'title': '[게임리뷰] Graveyard Keeper - 공부 블로그 Blue log', 'content': '레이지 베어 게임즈의 그레이브야드 키퍼라는 게임이다. image. 스타듀밸리와 크게 다르지 않은 게임으로 알고 시작했는데 연령 제한이 19세인 이유가 있는 게임이다.', 'score': 0.31875068, 'raw_content': '\\nLee Jeongan\\n\\nDevelopment & Study Blog\\n\\n[게임리뷰] Graveyard Keeper\\n\\n\\n\\n\\n\\nOctober 31, 2023\\n\\n\\nGameReview: Graveyard Keeper\\n\\n레이지 베어 게임즈의 그레이브야드 키퍼라는 게임이다.\\n\\n스타듀밸리와 크게 다르지 않은 게임으로 알고 시작했는데 연령 제한이 19세인 이유가 있는 게임이다.\\n가장 큰 특징으로는 엄청난 불친절한 게임으로 퀘스트의 순서, 메인 스토리와 다르게 flow자체가 뒤죽박죽이다.\\n이런 불친절함이 매력으로 다가와서 직접 해금하며 플레이하는 것이 특징\\n게임 자체에 이스터에그나 숨겨진 내용이 엄청 많을 것으로 예상..\\n스타듀 밸리와 다른 점은 다음 과 같다.\\n사실 클리어까지 플레이하고 리뷰를 작성하려 했으나.. 뒤에서 이야기가 나오겠지만 페이즈 2 파란색 정수를 먹기 시작하는 부분부터 너무 노가다 플레이라 그만 뒀다..\\n암울한 게임 분위기\\n시작부터 묘지 관리인, 19세, 해부학 등등 이런 컬트적인 요소를 어떤 분위기로 풀어낼까? 라는 생각을 가졌는데 안개 디자인이나, 전체적인 NPC와 플레이어의 모습, 낮은 톤의 도트등이 그런 매력적인 분위기를 연출한 것 같다.\\n시체를 들고 옮기고 매장하고, 해당 관리 점수를 얻는 방법까지.. 그런 분위기를 만드는데 일조한 것 같다.\\n\\n또한, 과거 종교적인 배척으로 마녀심판이나 목숨에 대한 무게, 그런 부분들이 되게 몰입하기 좋은 요소라고 생각된다.\\n불친절한 게임\\n앞서 말한 매력에 들어갈 수 있지만, 나는 개인적으로 너무 불친절하다고 느꼈다..\\n스타듀 밸리도 너무 재밌게 했지만 직관적이고 나름의 튜토리얼도 있어서 좋았는데 이 게임은 기본적으로 농담에서 추론하여 해석해야 하는 부분들이 존재한다.\\n예를 들어 시체를 묘지에 매장하기 전 해부를 할 수 있는데 여기서 등장하는 해골 게이지에 대한 설명은 게임 어디에서도 볼 수 없었다..(내가 못 본 걸 수 있다.)\\n이어서 빨간 해골을 없애야 묘지의 관리 점수를 올릴 수 있는데 실제 매장과 같이 피와 지방(썩는 부분?)을 해부하여 추출해야 빨간 해골이 없어진다.. (순전히 내 생각이긴 하다)\\n다른 부위를 추출하면 빨간 해골이 올라간다.\\n이 외에도 이런 무조건 해결해야 넘어갈 수 있는, 메인 스토리에 영향이 가는 부분들에 대한 설명이 너무 부족하다는 생각이 들었다.\\n과학을 얻는 법, 파란 게이지 추출 방법 등등.. 조합법도..\\n그렇다고 꽁꽁 숨겨놓은 것 까진 아니고 몇 시간 투자하면 알아낼 수 있긴 하다\\n지금 생각났는데 좀비 사용법도 몰라서 진짜 억울했다. 나중에는 조금 불쾌하게 다가온 듯\\n단순한 노가다의 반복\\n플레이 하면서 페이즈가 조금 나눠진다는 느낌을 받았다.\\n파란색 신학? 종교 게이지전까지는 단순 튜토리얼이고 이후 과학, 파란 게이지가 등장하면서 2페이즈라고 느꼈다.\\n전혀 다른 방향으로 흘러가는..!\\n하지만 여기서 문제가 발생하는데.. 게임에서 자동화를 하라고 어느정도 만들어 놓긴 했지만 그걸 제외하고도 너무 너무 노가다가 많다.\\n여기서 지쳐서 하차하게 되었는데 단순 상위 오브젝트를 만들기 위해선 낮은 레벨의 하나부터 다시 만들거나 레벨같은 개념이 없어서 에너지는 항상 부족하다.\\n결론\\n단순 도전욕구나 게임을 분석하는 것을 매우 좋아한다면 추천..\\n불친절의 끝판왕 게임이지만 게임 자체에 담고 있는 시대상은 잘 만들어서 구경하는 맛이 있다.\\n\\n 태그: \\n\\nDaily, \\nDev\\n\\n\\n\\n 카테고리: \\n\\nDaily\\n\\n\\n 업데이트: October 31, 2023\\n참고\\n\\n북클럽 스터디 8회차 인원 모집\\n\\n\\n\\n\\n\\nFebruary 7, 2025\\n\\n\\n\\n\\n\\nGG 스튜디오 개발 일지 [7]\\n\\n\\n\\n\\n\\nJanuary 23, 2025\\n\\n\\n\\n\\n\\n2024년 회고록\\n\\n\\n\\n\\n\\nJanuary 23, 2025\\n\\n\\n\\n\\n\\nHomeComingDay 발표\\n\\n\\n\\n\\n\\nDecember 16, 2024\\n\\n\\n\\n\\n'}, {'url': 'https://mouseypounds.github.io/stardew-predictor/', 'title': \"Stardew Predictor - MouseyPounds' GitHub Pages\", 'content': 'This app simulates the random number generator used in Stardew Valley and makes predictions about the game after reading the save file.', 'score': 0.31047532, 'raw_content': 'Navigation\\nStardew Predictor\\nAbout\\nThis app simulates the random number generator used in Stardew Valley and makes \"predictions\" about \\nthe game after reading the save file. The information predicted includes special mine levels \\n(e.g. mushroom floor & infestations), random items sold by some vendors, results from cracking geodes, the train schedule, and more.\\nA useful companion tool is BlaDe\\'s Map Predictor which handles things such as artifact digging, giant crops, and mine ladders.\\nMost changed & added content from version 1.6 is supported. While the app tries to detect the version in the save and use\\nprediction logic specific to that version, it will spoil some new features regardless. You have been warned. \\nThe app is written in Javascript and uses jQuery, BigInteger.js, JS xxHash, semver-compare, and pako; it is hosted on GitHub Pages at https://mouseypounds.github.io/stardew-predictor/ and the source code repository is https://github.com/MouseyPounds/stardew-predictor. \\nPlease report any bugs, suggestions, or other feedback to the topic in the Stardew official forums or to @mouseypounds on Discord.\\nSave File\\nSelect a save file to check: \\nPlease use the full save file named with your farmer\\'s name (or farm name) and an ID number (e.g. Fred_148093307); do not use the SaveGameInfo file as it does not contain all the necessary information.\\nDefault save file locations are:\\nWindows: %AppData%\\\\StardewValley\\\\Saves\\\\\\nMac OSX & Linux: ~/.config/StardewValley/Saves/\\nProton Steam (Ubuntu): ~/.steam/debian-installation/steamapps/compatdata/413150/pfx/drive_c/users/steamuser/AppData/Roaming/StardewValley/Saves/\\n\\nAdvanced Usage\\n\\nThe vast majority of players will just load their save above and not worry about anything else. However occasionally someone may want to check out certain game seeds and/or override some of the values in their save. This is done by adding URL parameters which are explained below.\\nShow\\n\\nValid URL parameters are listed below; each can be set via either a descriptive long name or a short abbreviation (neither of which are case-sensitive.) As an example, if one wanted to run Predictor with a game seed of 42069, set the days played to 250, and mark the desert as unlocked they could use the following URL:?id=42069&dp=250&desertunlocked=1\\nThe URL for the current prediction with all non-default parameters set (useful for sharing) is:(N/A)\\nLong NameAbbreviationTypeDescription\\nversionvSemver identifiere.g. 1.6.0Sets what Stardew version to use for predictions\\ngameIDidIntegerSets the game seed\\ndaysPlayeddpIntegerSets days played which changes where calendar views start\\ndayAdjustdaIntegerOffsets days played by the given amount to deal with old multiplayer bugs\\ndailyLuckdlFloatSets daily luck for garbage checks; will be forced into range [-0.1, 0.1]Note, this is raw luck before special charm is taken into account\\nluckLevelllIntegerSets luck buff level (from food, rings, etc.)\\ngeodesCrackedgcIntegerSets number of geodes cracked by the host\\nmysteryBoxesOpenedmbIntegerSets number of mystery boxes opened by the host\\nticketPrizesClaimedptIntegerSets number of prize ticket rewards claimed by the host\\ntimesEnchantedteIntegerSets number of times enchanted by the host\\ntrashCansCheckedtcIntegerSets number of trash cans checked by the host\\ntimesFedRaccoonstfrIntegerSets number of times the raccoons have been helped\\ndeepestMineLeveldmlIntegerSets deepest mine level (will max at 120)\\nvisitsUntilY1GuaranteevgIntegerSets the countdown for guaranteed red cabbage seed at cart;use -1 to disable and -99 to reroll\\ncanHaveChildrenchc1 for true, 0 for falseCan host/spouse have children (legacy for predicting 1.2 night events)\\nquarryUnlockedqu1 for true, 0 for falseQuarry unlocked and quarry mine visited\\ndesertUnlockeddu1 for true, 0 for falseDesert unlocked\\ngreenhouseUnlockedgu1 for true, 0 for falseGreenhouse unlocked (i.e. repaired)\\nccCompletecc1 for true, 0 for falseCommunity Center restored\\njojaCompletejc1 for true, 0 for falseJoja Community Development complete\\ntheaterUnlockedtu1 for true, 0 for falseTheater unlocked (non-Joja version)\\nhasFurnaceRecipehfr1 for true, 0 for falsePlayers have furnace recipe\\nhasSpecialCharmhsc1 for true, 0 for falsePlayers have the special luck charm\\nhasGarbageBookhgb1 for true, 0 for falsePlayers have read The Alleyway Buffet\\ngotMysteryBookgmb1 for true, 0 for falsePlayers have gotten Book of Mysteries from Mystery Boxes\\nleoMovedleo1 for true, 0 for falseWhether Leo has moved to the Valley\\nhardmodeMineshm1 for true, 0 for falseMines are set for hard difficulty\\nqiCropsActiveqc1 for true, 0 for falseQi Crops special order is active\\nuseLegacyRandomleg1 for true, 0 for falseSave uses Legacy RNG seeding\\n\\n\\n\\n\\nDefault save file locations are:\\nWindows: %AppData%\\\\StardewValley\\\\Saves\\\\\\nMac OSX & Linux: ~/.config/StardewValley/Saves/\\nProton Steam (Ubuntu): ~/.steam/debian-installation/steamapps/compatdata/413150/pfx/drive_c/users/steamuser/AppData/Roaming/StardewValley/Saves/\\n\\nAdvanced Usage\\n\\nThe vast majority of players will just load their save above and not worry about anything else. However occasionally someone may want to check out certain game seeds and/or override some of the values in their save. This is done by adding URL parameters which are explained below.\\nShow\\n\\nValid URL parameters are listed below; each can be set via either a descriptive long name or a short abbreviation (neither of which are case-sensitive.) As an example, if one wanted to run Predictor with a game seed of 42069, set the days played to 250, and mark the desert as unlocked they could use the following URL:?id=42069&dp=250&desertunlocked=1\\nThe URL for the current prediction with all non-default parameters set (useful for sharing) is:(N/A)\\nLong NameAbbreviationTypeDescription\\nversionvSemver identifiere.g. 1.6.0Sets what Stardew version to use for predictions\\ngameIDidIntegerSets the game seed\\ndaysPlayeddpIntegerSets days played which changes where calendar views start\\ndayAdjustdaIntegerOffsets days played by the given amount to deal with old multiplayer bugs\\ndailyLuckdlFloatSets daily luck for garbage checks; will be forced into range [-0.1, 0.1]Note, this is raw luck before special charm is taken into account\\nluckLevelllIntegerSets luck buff level (from food, rings, etc.)\\ngeodesCrackedgcIntegerSets number of geodes cracked by the host\\nmysteryBoxesOpenedmbIntegerSets number of mystery boxes opened by the host\\nticketPrizesClaimedptIntegerSets number of prize ticket rewards claimed by the host\\ntimesEnchantedteIntegerSets number of times enchanted by the host\\ntrashCansCheckedtcIntegerSets number of trash cans checked by the host\\ntimesFedRaccoonstfrIntegerSets number of times the raccoons have been helped\\ndeepestMineLeveldmlIntegerSets deepest mine level (will max at 120)\\nvisitsUntilY1GuaranteevgIntegerSets the countdown for guaranteed red cabbage seed at cart;use -1 to disable and -99 to reroll\\ncanHaveChildrenchc1 for true, 0 for falseCan host/spouse have children (legacy for predicting 1.2 night events)\\nquarryUnlockedqu1 for true, 0 for falseQuarry unlocked and quarry mine visited\\ndesertUnlockeddu1 for true, 0 for falseDesert unlocked\\ngreenhouseUnlockedgu1 for true, 0 for falseGreenhouse unlocked (i.e. repaired)\\nccCompletecc1 for true, 0 for falseCommunity Center restored\\njojaCompletejc1 for true, 0 for falseJoja Community Development complete\\ntheaterUnlockedtu1 for true, 0 for falseTheater unlocked (non-Joja version)\\nhasFurnaceRecipehfr1 for true, 0 for falsePlayers have furnace recipe\\nhasSpecialCharmhsc1 for true, 0 for falsePlayers have the special luck charm\\nhasGarbageBookhgb1 for true, 0 for falsePlayers have read The Alleyway Buffet\\ngotMysteryBookgmb1 for true, 0 for falsePlayers have gotten Book of Mysteries from Mystery Boxes\\nleoMovedleo1 for true, 0 for falseWhether Leo has moved to the Valley\\nhardmodeMineshm1 for true, 0 for falseMines are set for hard difficulty\\nqiCropsActiveqc1 for true, 0 for falseQi Crops special order is active\\nuseLegacyRandomleg1 for true, 0 for falseSave uses Legacy RNG seeding\\n\\n\\n\\n\\nAdvanced Usage\\nThe vast majority of players will just load their save above and not worry about anything else. However occasionally someone may want to check out certain game seeds and/or override some of the values in their save. This is done by adding URL parameters which are explained below.\\nValid URL parameters are listed below; each can be set via either a descriptive long name or a short abbreviation (neither of which are case-sensitive.) As an example, if one wanted to run Predictor with a game seed of 42069, set the days played to 250, and mark the desert as unlocked they could use the following URL:?id=42069&dp=250&desertunlocked=1\\nThe URL for the current prediction with all non-default parameters set (useful for sharing) is:(N/A)\\nLong NameAbbreviationTypeDescription\\nversionvSemver identifiere.g. 1.6.0Sets what Stardew version to use for predictions\\ngameIDidIntegerSets the game seed\\ndaysPlayeddpIntegerSets days played which changes where calendar views start\\ndayAdjustdaIntegerOffsets days played by the given amount to deal with old multiplayer bugs\\ndailyLuckdlFloatSets daily luck for garbage checks; will be forced into range [-0.1, 0.1]Note, this is raw luck before special charm is taken into account\\nluckLevelllIntegerSets luck buff level (from food, rings, etc.)\\ngeodesCrackedgcIntegerSets number of geodes cracked by the host\\nmysteryBoxesOpenedmbIntegerSets number of mystery boxes opened by the host\\nticketPrizesClaimedptIntegerSets number of prize ticket rewards claimed by the host\\ntimesEnchantedteIntegerSets number of times enchanted by the host\\ntrashCansCheckedtcIntegerSets number of trash cans checked by the host\\ntimesFedRaccoonstfrIntegerSets number of times the raccoons have been helped\\ndeepestMineLeveldmlIntegerSets deepest mine level (will max at 120)\\nvisitsUntilY1GuaranteevgIntegerSets the countdown for guaranteed red cabbage seed at cart;use -1 to disable and -99 to reroll\\ncanHaveChildrenchc1 for true, 0 for falseCan host/spouse have children (legacy for predicting 1.2 night events)\\nquarryUnlockedqu1 for true, 0 for falseQuarry unlocked and quarry mine visited\\ndesertUnlockeddu1 for true, 0 for falseDesert unlocked\\ngreenhouseUnlockedgu1 for true, 0 for falseGreenhouse unlocked (i.e. repaired)\\nccCompletecc1 for true, 0 for falseCommunity Center restored\\njojaCompletejc1 for true, 0 for falseJoja Community Development complete\\ntheaterUnlockedtu1 for true, 0 for falseTheater unlocked (non-Joja version)\\nhasFurnaceRecipehfr1 for true, 0 for falsePlayers have furnace recipe\\nhasSpecialCharmhsc1 for true, 0 for falsePlayers have the special luck charm\\nhasGarbageBookhgb1 for true, 0 for falsePlayers have read The Alleyway Buffet\\ngotMysteryBookgmb1 for true, 0 for falsePlayers have gotten Book of Mysteries from Mystery Boxes\\nleoMovedleo1 for true, 0 for falseWhether Leo has moved to the Valley\\nhardmodeMineshm1 for true, 0 for falseMines are set for hard difficulty\\nqiCropsActiveqc1 for true, 0 for falseQi Crops special order is active\\nuseLegacyRandomleg1 for true, 0 for falseSave uses Legacy RNG seeding\\n\\n\\nThe URL for the current prediction with all non-default parameters set (useful for sharing) is:(N/A)\\nLong NameAbbreviationTypeDescription\\nversionvSemver identifiere.g. 1.6.0Sets what Stardew version to use for predictions\\ngameIDidIntegerSets the game seed\\ndaysPlayeddpIntegerSets days played which changes where calendar views start\\ndayAdjustdaIntegerOffsets days played by the given amount to deal with old multiplayer bugs\\ndailyLuckdlFloatSets daily luck for garbage checks; will be forced into range [-0.1, 0.1]Note, this is raw luck before special charm is taken into account\\nluckLevelllIntegerSets luck buff level (from food, rings, etc.)\\ngeodesCrackedgcIntegerSets number of geodes cracked by the host\\nmysteryBoxesOpenedmbIntegerSets number of mystery boxes opened by the host\\nticketPrizesClaimedptIntegerSets number of prize ticket rewards claimed by the host\\ntimesEnchantedteIntegerSets number of times enchanted by the host\\ntrashCansCheckedtcIntegerSets number of trash cans checked by the host\\ntimesFedRaccoonstfrIntegerSets number of times the raccoons have been helped\\ndeepestMineLeveldmlIntegerSets deepest mine level (will max at 120)\\nvisitsUntilY1GuaranteevgIntegerSets the countdown for guaranteed red cabbage seed at cart;use -1 to disable and -99 to reroll\\ncanHaveChildrenchc1 for true, 0 for falseCan host/spouse have children (legacy for predicting 1.2 night events)\\nquarryUnlockedqu1 for true, 0 for falseQuarry unlocked and quarry mine visited\\ndesertUnlockeddu1 for true, 0 for falseDesert unlocked\\ngreenhouseUnlockedgu1 for true, 0 for falseGreenhouse unlocked (i.e. repaired)\\nccCompletecc1 for true, 0 for falseCommunity Center restored\\njojaCompletejc1 for true, 0 for falseJoja Community Development complete\\ntheaterUnlockedtu1 for true, 0 for falseTheater unlocked (non-Joja version)\\nhasFurnaceRecipehfr1 for true, 0 for falsePlayers have furnace recipe\\nhasSpecialCharmhsc1 for true, 0 for falsePlayers have the special luck charm\\nhasGarbageBookhgb1 for true, 0 for falsePlayers have read The Alleyway Buffet\\ngotMysteryBookgmb1 for true, 0 for falsePlayers have gotten Book of Mysteries from Mystery Boxes\\nleoMovedleo1 for true, 0 for falseWhether Leo has moved to the Valley\\nhardmodeMineshm1 for true, 0 for falseMines are set for hard difficulty\\nqiCropsActiveqc1 for true, 0 for falseQi Crops special order is active\\nuseLegacyRandomleg1 for true, 0 for falseSave uses Legacy RNG seeding\\n\\n\\nWorking...\\nResults\\n\\nBookseller\\nThis tab predicts two things: which two days the Bookseller will appear each month, and some of the items available for purchase on those days. Results will only show those books which are randomly chosen. Other items in the shop are either always present (e.g. Price Catalogue) or have a non-random trigger (e.g. Queen of Sauce Cookbook which appears after 100 walnuts have been found) and are not included.\\n\\nCalicoJack\\nPredicted results from playing the Blackjack-like card game at the Oasis Casino. The results tell you what actions to take to win the game if possible. The game does not keep a cumulative counts of plays in the save, but instead uses a fresh counter every play session. As a result, the layout of this tab is a little different with two sets of navigation buttons. The top set lets you change the day of prediction, and the bottom set changes number of games played in the current session.\\nSince one can bet \"Double or Nothing\" following a win, coins can be quickly accumulated during long win streaks although one must be careful to avoid overflowing their coin count into the negatives. If starting from nothing, overflow would happen on the 22nd consecutive win.\\nStardew 1.6 added a very rare chance for the dealer to draw a card worth 999 and results in the player winning 3 times their bet. Predictor should indicate when this is likely to happen (the roll is modified by both daily luck and luck buffs) but it does not currently attempt to search out this result.\\n\\nCrane Game\\nThis calendar shows the presence of the worst villain in Stardew Valley, the green shirt man\\nwho hogs the crane game at the Movie Theater. He will always be there\\non your first theater visit and also after every movie. His presence before movies (for later visits) is predictable and shown below.\\nDesert Festival\\nThis is for various predictable details of the Desert Festival.\\n\\nEnchantments\\nPredicted results from enchanting tools and weapons at the\\nForge in the Volcano. The number of times enchanted is a cumulative count across all items; forging a weapon with a Galaxy Soul will also increment this count.\\nNote that in multiplayer, each player\\'s enchant count is tracked separately; for multiplayer saves there is a drop-down menu which will let you choose which player to use for predictions. This will only affect the highlighting for pre-1.6 saves but actually affects the predictions for 1.6 or later. Searching is not currently supported.\\nBeginning in version 1.5.2, the two previous enchantments on an item are excluded from the pool of outcomes. The results are a little bit confusing because of this as there can be as many as 3 possible outcomes listed. The first one is guaranteed if the weapon has never been enchanted, and hovering over the \"...\" will show a tooltip with some greater detail. Additionally, hoes and watering cans are assumed to be Iridium level so that the \"Reaching\" enchantment is available.\\nPan enchantments were only introduced in Stardew 1.6 but will show for all versions.\\n\\nGarbage Cans\\nThis calendar shows the prediction of some Garbage Can loot.\\nWhile luck plays a big role in what you find in cans, there is still a good amount of predictability. Most notably, the \\nGarbage Hat and Trash Catalogue are nearly guaranteed; if they show up on this list, it should happen in game.\\nAdditionally, some results are highly reliable because the roll is good enough to pass the check even with worst possible luck. Some caveats about these\\npredictions are listed below: \\nGem Bird Types\\nThis shows which types of Gem Birds will appear in each Island location; this could be used to complete the jungle gem shrine puzzle before all birds are encountered in-game.\\n\\nGeode Processing\\nPredicted results from cracking open all types of\\ngeodes at Clint\\'s\\nBlacksmith Shop. The number of geodes opened is a cumulative count across all types. Results can\\nbe browsed twenty at a time or searched using a case-insensitive substring (regular expression wildcards are allowed.)\\nNote that in multiplayer, each player\\'s geode count is tracked separately; the browse results are initially set and highlighted\\nbased on the host\\'s count. Note also that while Mystery Boxes have their own counter and item pool (and are thus predicted in a different section of the app) having Clint open a Mystery Box of any type will also increment the geode counter.\\nArtifact Troves and Golden Coconuts are technically geode types but have their own special item pools. When opening Golden Coconuts there is a small chance for the chosen item to be replaced by the Golden Helmet; browsing results will show this potential replacement, but the player will only actually receive the hat if they have not previously gotten one. Similarly, during the Qi\\'s Crop Challenge, all geode types have a chance to drop either 1 or 5 Qi Beans instead of their normal items; this is also shown on the browsing results.\\nArtifacts and minerals which need to be donated to the museum will be marked in the results, however the Fossilized Skull (which can be found in Golden Coconuts and donated to the Ginger Island Field Office) does not have donation status checked.\\nStardew 1.5 introduced a Geode Crusher machine which opens the basic 4 geode types. This machine uses the same RNG but in version 1.5 its counter is offset by 1. For example if you have already crushed 12 geodes, the next geode cracked by Clint will use the results from line 13, but the next geode cracked by the Crusher will use the results from line 12. This discrepancy was fixed in version 1.6\\n\\nKrobus\\' Sewer Shop Stock\\nPartial inventory list for Krobus who sells items\\nin the Sewers. While his stock is static on most days, there is a random\\nfish sold on Wednesdays and a random cooked dish sold on Saturdays; these items can be predicted and are listed below.\\nResults can be browsed by week or searched using a case-insensitive substring (regular expression wildcards are allowed.)\\nSpecial Mine Floors\\nThis calendar shows the prediction of various special levels in \\nthe Mines and Skull Cavern.\\nMine Chests\\nStarting in version 1.5, one of the advanced startup options allows for randomized\\nloot in the mine reward chests. This loot can be predicted and is listed below. Note that even when this option is used, some of the chests still only have one possible reward.\\nMystery Boxes\\nPredicted results from opening all types of\\nMystery Boxes at Clint\\'s\\nBlacksmith Shop. The number of boxes opened is a cumulative count across all types. Results can\\nbe browsed twenty at a time or searched using a case-insensitive substring (regular expression wildcards are allowed.)\\nNote that in multiplayer, each player\\'s box count is tracked separately; the browse results are initially set and highlighted\\nbased on the host\\'s count.\\nThe Book of Mysteries becomes more and more likely as more boxes are opened until you get one. The app will base its predictions on whether or not the save indicates that the host has gotten a book, and this can be overridden with a URL parameter. One result of this is that a long-term search if the book hasn\\'t yet been found will eventually be dominated by only the book.\\nGolden Mystery Boxes have a slightly different drop pool if the player has unlocked the farming mastery perk. Because of the order of the random rolls, this results in the item chosen usually being different. In this case we handle the difference by having 2 separate Golden Mystery Box result lists.\\nIf the result is \"Seasonal Seeds\" the type of seed is an unpredictable roll based on current season (with all possible in winter). Possibilities include Cauliflower, Green Bean, Parsnip, Potato, Pepper, Radish, Wheat, Corn, Eggplant, Artichoke, and Pumpkin.\\nIf the result is \"Raccoon Seeds\" the type of seed is the same as you would get from seed dig spots on that day. Possibilities include Carrot, Summer Squash, Broccoli, and Powdermelon.\\n\\nNight Events\\nThis calendar shows potential\\novernight events on the farm. These events will not occur if there\\nis a player wedding the next day, and they will also be overridden by a restoration event from the completion of a\\nfull Community Center room or a\\nJoja Community Development purchase.\\nMost of these events also have other checks they must pass to actually trigger (such as finding a suitable location), \\nso they are not 100% guaranteed; in particular the \\nstrange capsule and stone owl events were \\nextremely rare\\nin earlier versions of the game, and in Stardw Valley 1.5.3 or later the strange capsule will only trigger once per save.\\nIn version 1.6, there is a new windstorm event which occurs sometime after the Greenhouse repair; the possibility of this event changes future event predictions because it causes an additional random roll even after it has completed. Any day which could be the windstorm will be marked with a stump icon on the calendar. Additionally, the app will try to detect in the save whether the Greenhouse has been restored (this can also be set with a URL parameter) and use that status when predicting other events. Be careful when looking ahead for future events if repairs have not been completed yet.\\nNotes: The app may misidentify the type of event in version 1.2 if the farmer has the possibility of\\nhaving more children.\\nPrize Ticket Machine\\nThis tab shows predicted rewards for the prize ticket machine in the mayor\\'s house.\\nIf the result is \"Raccoon Seeds\" the type of seed is the same as you would get from seed dig spots on that day. Possibilities include Carrot, Summer Squash, Broccoli, and Powdermelon.\\n\\nRaccoon Bundles\\nThis tab shows predictions for both what the raccoons will ask for and what reward they will give upon completion. Their requests will often vary by season so the app will list all 4 season options when that happens.\\nSome rewards have an option of \"Next unshipped item\". If at least 100 Golden Walnuts have been collected and Full Shipment has not been achieved, this reward will be the first unshipped item encountered on the Shipping Collections tab; otherwise it will be four Mystery Boxes.\\n\\nSandy\\'s Oasis Shop Stock\\nPartial inventory list for Sandy who sells items\\nin the Oasis shop. While her stock is mostly static, beginning in version 1.4 there\\nis a random shirt sold every day; this shirt choice is predictable and listed below. The shirt is always 1000g.\\nResults can be browsed by week or searched using a case-insensitive substring (regular expression wildcards are allowed.)\\nThe app identifies shirts which cannot be obtained through tailoring. Those which can be chosen at character creation are marked with their choice number while those that cannot be chosen at creation are marked Oasis exclusive. Both types can probably be found as random drops in Stardew 1.6.\\nMastery Statue Blessings\\nThis calendar shows the prediction of the two mastery statues. For the Statue of Blessings, there may be two possibilities listed based upon whether it is raining. Traditional Festival days will also use the rain choice. If the Blessing of the Butterfly is chosen (only possible for non-rain), hovering over the \"...\" will show which map to check for each player. For the Statue of the Dwarf King there are always two choices for each player to pick from and those choices are listed here.\\n\\nTrain Schedule\\nThis calendar shows the predicted train spawns on the\\nRailroad map. The time of the train can be predicted, but the type of train cars\\nand amount of dropped items cannot.\\nNote that a train will not spawn on the first day after a save is loaded or reloaded.\\nTraveling Merchant Cart/Boat\\nInventory list for the traveling\\nmerchant. The merchant operates a cart in Cindersap Forest\\nevery Friday and Sunday (6am - 8pm) and also appears at various festivals. Results can be browsed by week (all festivals\\nare treated as a separate week) or searched using a case-insensitive substring (regular expression wildcards are allowed.)\\nStardew 1.6 drastically changed how the items are selected. Predictor does a pretty good job for an unmodded save but still\\nhas some issues such as Furniture prices and often misidentifying the random skill book when it triggers. If you play with mods\\nthat add items or furniture, expect most cart predictions to become even more unreliable.\\n\\nWallpaper from Pierre and Joja\\nThis calendar shows the prediction of which \\nwallpaper and flooring\\nitems are available at Pierre\\'s General Store and the Joja Mart. This was mainly useful for those who used a bug that caused\\nwallpaper to be interpreted as another item (which is the \"equivalence\" listed on the results. As of version 1.4 most (if not all) of these\\nexploits have been patched and the equivalence is now meaningless, but this tab might still be relevant for those who want to get a specific\\nwall/floor without buying the Catalogue.\\nThe app will use the CC completion status read from the save (or URL parameter) to determine whether a particular store should be shown at all.\\nDue to shop changes in 1.6, Pierre and Joja always sell the same wallpaper and often (but not always) sell the same flooring.\\nGreen Rain\\nStarting in Stardew 1.6, Pelican Town weather can be partially predicted. If the app shows \"Rain\" it could also be (unpredictably) upgraded to a Storm, and if the app shows \"Sun\" it could be (unpredictably) upgraded into Wind/Snow depending on season. Ginger Island weather is not predictable.\\n\\nFeast of the Winter Star Gift Assignments\\nThis shows the secret gift assignments for the\\nWinter Star festival. The actual gift(s) the player(s) will receive\\ncannot be reliably predicted, but a list of all the possibilities is provided. Starting with version 1.5, the presence of \\nLeo may affect the outcome; the app will predict based upon Leo\\'s current\\nstatus.\\n\\nChangelog\\nOlder changes\\n'}, {'url': 'https://mouseypounds.github.io/stardew-checkup/', 'title': \"Stardew Checkup - MouseyPounds' GitHub Pages\", 'content': 'Stardew Checkup. About. This app checks a Stardew Valley save file for various achievements and milestones and lets you know what is missing.Missing:  게임 | Show results with:게임', 'score': 0.29686365, 'raw_content': \"Navigation\\nStardew Checkup\\nAbout\\nThis app checks a Stardew Valley save file for various achievements and milestones and\\nlets you know what is missing. Currently it checks for progress on 46 achievements as well as other progression and completion mechanics including Grandpa's evaluation, Ginger Island upgrades, Perfection, and social relationships.\\nMost changed & added content from version 1.6 is supported, and 1.6-specific features should only appear in the results if the save is detected to be from that version. If you load a 1.6 save into the app, expect to see spoilers. There is some spoiler protection for major systems by using the Output Preferences to hide some section results, but the titles of the new sections will still be visible and new items will still appear in the details of old sections. \\nThe app is written in Javascript and uses jQuery, semver-compare, Javascript Cookie and pako; it is hosted on GitHub Pages at https://mouseypounds.github.io/stardew-checkup/ and the source code repository is https://github.com/MouseyPounds/stardew-checkup.\\nPlease report any bugs, suggestions, or other feedback to the topic in the Stardew official forums or to @mouseypounds on Discord.\\nChoose Save File\\nSelect Output Preferences below and then choose your save file. The summary is the part that lists whether or not an achievement / goal has been met and the details are things like the NPC event checklist or full list of still-needed items. New Sections are those which have been added for Stardew 1.6.\\nSelect a save file to check: \\nPlease use the full save file named with your farmer's name (or farm name) and an ID number (e.g. Fred_148093307); do not use the SaveGameInfo file as it does not contain all the necessary information.\\nDefault save file locations are:\\nWindows: %AppData%\\\\StardewValley\\\\Saves\\\\\\nMac OSX & Linux: ~/.config/StardewValley/Saves/\\nProton Steam (Ubuntu): ~/.steam/debian-installation/steamapps/compatdata/413150/pfx/drive_c/users/steamuser/AppData/Roaming/StardewValley/Saves/\\n\\n\\nDefault save file locations are:\\nWindows: %AppData%\\\\StardewValley\\\\Saves\\\\\\nMac OSX & Linux: ~/.config/StardewValley/Saves/\\nProton Steam (Ubuntu): ~/.steam/debian-installation/steamapps/compatdata/413150/pfx/drive_c/users/steamuser/AppData/Roaming/StardewValley/Saves/\\n\\n\\nWorking...\\nResults\\nChangelog\\nOlder changes\\n\"}, {'url': 'https://mouseypounds.github.io/ppja-ref/crops.html', 'title': \"Mousey's PPJA (and Friends) Reference: Crop Summary\", 'content': 'Additionally there are some buttons which will show or hide multiple sources at once. Stardew Valley base game version 1.5.1. Ancient Crops version 2.1.3', 'score': 0.25693962, 'raw_content': \"Mousey's PPJA (and Friends) Reference: Crop Summary\\nA summary of growth and other basic information for crops from various sources. In the list below, the checkboxes can be used to show or hide\\ninformation specific to that particular source; the symbol Ⓟ indicates an official PPJA mod. Additionally there\\nare some buttons which will show or hide multiple sources at once.\\nIn the following tables, the  column is for whether or not\\nthe crop requires a scythe to harvest, and the  column is for\\nwhether the crop has a trellis (or similar structure that blocks walking on it). The XP column is the amount of\\nexperience gained on a single harvest. Normally this is Farming experience, but for the seasonal forage crops it is Foraging experience.\\nThe Seasonal Profit column is an average full-season estimate that assumes the maximum number of harvests in the\\nmonth with the product sold raw at base (no-star) quality without any value-increasing professions (like Tiller.)\\nIt also assumes all seeds are bought at the shown price and does not account for any other costs (such as purchasing fertilizer).\\nThe growth times, maximum number of harvests, and profit all depend on growth speed modifiers which can be set in the form\\nbelow and apply to all the tables on this page. Wasted Days would be how many leftover days there are after reaching the\\nmaxiumum number of harvests. This can be useful for planning a second crop to fill the gap or delaying the initial planting.\\nPaddy crops will show two numbers for growth time and some other fields; the first number is\\nwith the close-water bonus, and the number in parentheses is without. Unfortunately, these entries will not sort properly.\\nNavigation\\nSpring Crops\\nSummer Crops\\nFall Crops\\nWinter Crops\\nIndoor-Only Crops\\n\"}], 'response_time': 1.23}\n",
      "content='스타듀밸리(Stardew Valley)는 농장을 경영하고, 다양한 활동을 즐길 수 있는 인기 있는 인디 게임입니다. 게임은 주로 농업, 낚시, 채굴, 그리고 주민들과의 상호작용을 통해 진행됩니다. \\n\\n게임은 저마다 개성이 있는 NPC들과 함께 다양한 퀘스트를 수행할 수 있으며, 플레이어는 자신의 농장을 어떻게 발전시킬지 선택하는 자유도가 높습니다. 또한, 게임은 단순한 농장 관리뿐만 아니라, 커플링, 축제, 및 자원 관리 등 다양한 요소가 포함되어 있어 플레이어들에게 풍부한 경험을 제공합니다.\\n\\n더 자세한 정보와 자료는 다음 링크에서 확인할 수 있습니다:\\n- [Stardew Valley Machines Reference](https://mouseypounds.github.io/ppja-ref/machines.html)\\n- [Stardew Valley Predictor](https://mouseypounds.github.io/stardew-predictor/)\\n\\n이 외에도 농작물 및 다양한 기계, 도구에 대한 정보도 링크에서 찾아볼 수 있습니다.' additional_kwargs={'refusal': None} response_metadata={'token_usage': {'completion_tokens': 228, 'prompt_tokens': 466, 'total_tokens': 694, 'completion_tokens_details': {'accepted_prediction_tokens': 0, 'audio_tokens': 0, 'reasoning_tokens': 0, 'rejected_prediction_tokens': 0}, 'prompt_tokens_details': {'audio_tokens': 0, 'cached_tokens': 0}}, 'model_name': 'gpt-4o-mini-2024-07-18', 'system_fingerprint': 'fp_00428b782a', 'finish_reason': 'stop', 'logprobs': None} id='run-04f957a6-3f02-4c6b-bf27-121342b80c76-0' usage_metadata={'input_tokens': 466, 'output_tokens': 228, 'total_tokens': 694, 'input_token_details': {'audio': 0, 'cache_read': 0}, 'output_token_details': {'audio': 0, 'reasoning': 0}}\n"
     ]
    }
   ],
   "source": [
    "question = (\"안녕하세요. 스타듀밸리 게임에 대해서 검색해주세요.\")\n",
    "events = graph.stream({\"messages\": [(\"human\", question)]}, config=config)\n",
    "\n",
    "for event in events:\n",
    "    for value in event.values():\n",
    "        print(value[\"messages\"][-1])"
   ]
  },
  {
   "cell_type": "markdown",
   "metadata": {},
   "source": [
    "LLM에게 질문을 날려서 Tavily를 이용한 웹 검색을 하는지 확인"
   ]
  },
  {
   "cell_type": "code",
   "execution_count": 101,
   "metadata": {},
   "outputs": [
    {
     "name": "stdout",
     "output_type": "stream",
     "text": [
      "\n",
      "[{\"url\": \"https://mouseypounds.github.io/ppja-ref/machines.html\", \"content\": \"Stardew Valley base game version 1.5.1. Chocolatier version 1.0.5 (Nexus page) [PFM] Ancient Crops - Artisan Valley Add-on version 2.1.3 (Nexus page) P [PFM]\"}, {\"url\": \"https://fkdl0048.github.io/daily/Graveyard-Keeper_Review/\", \"content\": \"레이지 베어 게임즈의 그레이브야드 키퍼라는 게임이다. image. 스타듀밸리와 크게 다르지 않은 게임으로 알고 시작했는데 연령 제한이 19세인 이유가 있는 게임이다.\"}, {\"url\": \"https://mouseypounds.github.io/stardew-predictor/\", \"content\": \"This app simulates the random number generator used in Stardew Valley and makes predictions about the game after reading the save file.\"}, {\"url\": \"https://mouseypounds.github.io/stardew-checkup/\", \"content\": \"Stardew Checkup. About. This app checks a Stardew Valley save file for various achievements and milestones and lets you know what is missing.Missing:  게임 | Show results with:게임\"}, {\"url\": \"https://mouseypounds.github.io/ppja-ref/crops.html\", \"content\": \"Additionally there are some buttons which will show or hide multiple sources at once. Stardew Valley base game version 1.5.1. Ancient Crops version 2.1.3\"}]\n",
      "스타듀밸리는 농장을 관리하고 생활하는 시뮬레이션 게임으로, 다양한 캐릭터와 스토리라인이 특징입니다. 게임의 주요 내용과 관련된 여러 링크를 아래에 정리했습니다.\n",
      "\n",
      "1. [Stardew Valley Machines](https://mouseypounds.github.io/ppja-ref/machines.html): 스타듀밸리의 기본 게임과 관련된 기계에 대한 정보입니다.\n",
      "\n",
      "2. [Graveyard Keeper Review](https://fkdl0048.github.io/daily/Graveyard-Keeper_Review/): 스타듀밸리와 비슷한 게임으로, 그레이브야드 키퍼에 대한 리뷰입니다.\n",
      "\n",
      "3. [Stardew Predictor](https://mouseypounds.github.io/stardew-predictor/): 스타듀밸리의 난수 생성기를 시뮬레이션하여 게임 예측을 제공하는 앱입니다.\n",
      "\n",
      "4. [Stardew Checkup](https://mouseypounds.github.io/stardew-checkup/): 스타듀밸리의 저장 파일을 검사하여 다양한 성취와 이정표를 확인하는 앱입니다.\n",
      "\n",
      "5. [Stardew Valley Crops](https://mouseypounds.github.io/ppja-ref/crops.html): 농작물에 대한 정보가 포함된 페이지입니다.\n",
      "\n",
      "더 궁금한 점이 있으시면 말씀해 주세요!\n"
     ]
    }
   ],
   "source": [
    "question = (\"안녕하세요. 스타듀밸리 게임에 대해서 검색해주세요.\")\n",
    "events = graph.stream({\"messages\": [(\"human\", question)]}, config=config)\n",
    "\n",
    "for event in events:\n",
    "    for value in event.values():\n",
    "        print(value[\"messages\"][-1].content)"
   ]
  },
  {
   "cell_type": "markdown",
   "metadata": {},
   "source": [
    "content만 출력해 보기"
   ]
  }
 ],
 "metadata": {
  "kernelspec": {
   "display_name": "venv",
   "language": "python",
   "name": "python3"
  },
  "language_info": {
   "codemirror_mode": {
    "name": "ipython",
    "version": 3
   },
   "file_extension": ".py",
   "mimetype": "text/x-python",
   "name": "python",
   "nbconvert_exporter": "python",
   "pygments_lexer": "ipython3",
   "version": "3.12.0"
  }
 },
 "nbformat": 4,
 "nbformat_minor": 2
}
