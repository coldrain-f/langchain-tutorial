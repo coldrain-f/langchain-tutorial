{
 "cells": [
  {
   "cell_type": "code",
   "execution_count": 2,
   "metadata": {},
   "outputs": [
    {
     "data": {
      "text/plain": [
       "True"
      ]
     },
     "execution_count": 2,
     "metadata": {},
     "output_type": "execute_result"
    }
   ],
   "source": [
    "from typing import Annotated\n",
    "from typing_extensions import TypedDict\n",
    "\n",
    "from langgraph.graph import StateGraph, START, END\n",
    "from langgraph.graph.message import add_messages\n",
    "\n",
    "from langchain_community.tools.tavily_search import TavilySearchResults\n",
    "from langchain_openai import ChatOpenAI\n",
    "\n",
    "\n",
    "from dotenv import load_dotenv\n",
    "\n",
    "load_dotenv()"
   ]
  },
  {
   "cell_type": "markdown",
   "metadata": {},
   "source": [
    "환경 변수 로드"
   ]
  },
  {
   "cell_type": "code",
   "execution_count": 3,
   "metadata": {},
   "outputs": [],
   "source": [
    "class State(TypedDict):\n",
    "    messages: Annotated[list, add_messages]"
   ]
  },
  {
   "cell_type": "markdown",
   "metadata": {},
   "source": [
    "상태 정의"
   ]
  },
  {
   "cell_type": "code",
   "execution_count": 4,
   "metadata": {},
   "outputs": [],
   "source": [
    "tavily_search_tool = TavilySearchResults(\n",
    "  max_results=1, \n",
    "  include_answer=True,\n",
    "  include_raw_content=True,\n",
    "  include_domains=[\"github.io\", \"wikidocs.net\"]\n",
    ")\n",
    "\n",
    "tools = [tavily_search_tool]"
   ]
  },
  {
   "cell_type": "markdown",
   "metadata": {},
   "source": [
    "사용할 도구 정의"
   ]
  },
  {
   "cell_type": "code",
   "execution_count": 5,
   "metadata": {},
   "outputs": [],
   "source": [
    "llm = ChatOpenAI(model=\"gpt-4o-mini\")\n",
    "\n",
    "llm_with_tools = llm.bind_tools(tools)"
   ]
  },
  {
   "cell_type": "markdown",
   "metadata": {},
   "source": [
    "LLM에 도구 바인딩"
   ]
  },
  {
   "cell_type": "code",
   "execution_count": 6,
   "metadata": {},
   "outputs": [],
   "source": [
    "from langgraph.prebuilt import ToolNode, tools_condition\n",
    "\n",
    "def call_llm(state: State):\n",
    "    answer = llm_with_tools.invoke(state[\"messages\"])\n",
    "    return {\"messages\": [answer]}\n",
    "\n",
    "tools = ToolNode(tools=[tavily_search_tool])"
   ]
  },
  {
   "cell_type": "markdown",
   "metadata": {},
   "source": [
    "노드 정의"
   ]
  },
  {
   "cell_type": "code",
   "execution_count": 7,
   "metadata": {},
   "outputs": [
    {
     "data": {
      "text/plain": [
       "<langgraph.graph.state.StateGraph at 0x1e7f7c6ba10>"
      ]
     },
     "execution_count": 7,
     "metadata": {},
     "output_type": "execute_result"
    }
   ],
   "source": [
    "graph_builder = StateGraph(State)\n",
    "\n",
    "graph_builder.add_node(\"call_llm\", call_llm)\n",
    "graph_builder.add_node(\"tools\", tools)"
   ]
  },
  {
   "cell_type": "markdown",
   "metadata": {},
   "source": [
    "기본적인 원리:\n",
    "\n",
    "call_llm 노드가 tool_node에게 \"웹 검색\" 도구를 사용해 주세요.라고 알리면\n",
    "\n",
    "tool_node는 \"웹 검색\" 도구를 사용해서 웹에서 검색 후 call_llm에게 다시 전달해준다."
   ]
  },
  {
   "cell_type": "code",
   "execution_count": 8,
   "metadata": {},
   "outputs": [
    {
     "data": {
      "text/plain": [
       "<langgraph.graph.state.StateGraph at 0x1e7f7c6ba10>"
      ]
     },
     "execution_count": 8,
     "metadata": {},
     "output_type": "execute_result"
    }
   ],
   "source": [
    "graph_builder.add_conditional_edges(\n",
    "    \"call_llm\",\n",
    "    tools_condition,\n",
    ")"
   ]
  },
  {
   "cell_type": "markdown",
   "metadata": {},
   "source": [
    "조건부 엣지(Conditional Edges) 추가\n",
    "\n",
    "조건부 엣지를 추가하면 call_llm이 도구를 사용할지 말지를 판단하게 된다."
   ]
  },
  {
   "cell_type": "code",
   "execution_count": 9,
   "metadata": {},
   "outputs": [
    {
     "data": {
      "text/plain": [
       "<langgraph.graph.state.StateGraph at 0x1e7f7c6ba10>"
      ]
     },
     "execution_count": 9,
     "metadata": {},
     "output_type": "execute_result"
    }
   ],
   "source": [
    "graph_builder.add_edge(\"tools\", \"call_llm\")\n",
    "graph_builder.add_edge(START, \"call_llm\")\n",
    "graph_builder.add_edge(\"call_llm\", END)"
   ]
  },
  {
   "cell_type": "markdown",
   "metadata": {},
   "source": [
    "그래프 간선 연결"
   ]
  },
  {
   "cell_type": "code",
   "execution_count": 10,
   "metadata": {},
   "outputs": [],
   "source": [
    "from langgraph.checkpoint.memory import MemorySaver\n",
    "\n",
    "memory = MemorySaver()"
   ]
  },
  {
   "cell_type": "markdown",
   "metadata": {},
   "source": [
    "Multi-Turn 대화를 위한 `MemorySaver` 체크포인터 생성"
   ]
  },
  {
   "cell_type": "code",
   "execution_count": 11,
   "metadata": {},
   "outputs": [],
   "source": [
    "graph = graph_builder.compile(checkpointer=memory)"
   ]
  },
  {
   "cell_type": "markdown",
   "metadata": {},
   "source": [
    "그래프 컴파일\n",
    "\n",
    "Multi-Turn 대화를 위해서 컴파일 시 `checkpointer`를 `MemorySaver`로 설정해준다."
   ]
  },
  {
   "cell_type": "code",
   "execution_count": 12,
   "metadata": {},
   "outputs": [
    {
     "data": {
      "image/png": "[encoded data removed]",
      "text/plain": [
       "<IPython.core.display.Image object>"
      ]
     },
     "metadata": {},
     "output_type": "display_data"
    }
   ],
   "source": [
    "from IPython.display import Image, display\n",
    "\n",
    "display(Image(graph.get_graph().draw_mermaid_png()))"
   ]
  },
  {
   "cell_type": "markdown",
   "metadata": {},
   "source": [
    "그래프 시각화"
   ]
  },
  {
   "cell_type": "code",
   "execution_count": 13,
   "metadata": {},
   "outputs": [],
   "source": [
    "from langchain_core.runnables import RunnableConfig\n",
    "\n",
    "config = RunnableConfig(recursion_limit=10, configurable={\"thread_id\": \"1\"})"
   ]
  },
  {
   "cell_type": "markdown",
   "metadata": {},
   "source": [
    "`checkpointer`를 설정을 했으면 `RunnableConfig`를 사용해서 `thread_id`를 설정해줘야 한다.\n",
    "\n",
    "Multi-Turn 대화 시 `thread_id`를 가지고 사용자를 구분하여 대화를 이어나갈 수 있다."
   ]
  },
  {
   "cell_type": "markdown",
   "metadata": {},
   "source": [
    "call_llm → tools → call_llm → tools ... (무한 루프)를 방지하기 위해서\n",
    "\n",
    "`RunnableConfig`를 사용해서 `recursion_limit`값을 지정해 준다.\n",
    "\n",
    "여기서는 최대 10개의 노드까지 방문하도록 설정.\n",
    "\n",
    "START(1) → call_llm(2) → tools(3) → call_llm(4) → END(5)"
   ]
  },
  {
   "cell_type": "code",
   "execution_count": 14,
   "metadata": {},
   "outputs": [
    {
     "name": "stdout",
     "output_type": "stream",
     "text": [
      "content='' additional_kwargs={'tool_calls': [{'id': 'call_1tI9gXV7GWKTPXoMIwtgfPmg', 'function': {'arguments': '{\"query\":\"스타듀밸리 게임\"}', 'name': 'tavily_search_results_json'}, 'type': 'function'}], 'refusal': None} response_metadata={'token_usage': {'completion_tokens': 25, 'prompt_tokens': 94, 'total_tokens': 119, 'completion_tokens_details': {'accepted_prediction_tokens': 0, 'audio_tokens': 0, 'reasoning_tokens': 0, 'rejected_prediction_tokens': 0}, 'prompt_tokens_details': {'audio_tokens': 0, 'cached_tokens': 0}}, 'model_name': 'gpt-4o-mini-2024-07-18', 'system_fingerprint': 'fp_13eed4fce1', 'finish_reason': 'tool_calls', 'logprobs': None} id='run-9008b94a-7d6c-400a-a84e-5d4f94bf4686-0' tool_calls=[{'name': 'tavily_search_results_json', 'args': {'query': '스타듀밸리 게임'}, 'id': 'call_1tI9gXV7GWKTPXoMIwtgfPmg', 'type': 'tool_call'}] usage_metadata={'input_tokens': 94, 'output_tokens': 25, 'total_tokens': 119, 'input_token_details': {'audio': 0, 'cache_read': 0}, 'output_token_details': {'audio': 0, 'reasoning': 0}}\n",
      "content='[{\"url\": \"https://mouseypounds.github.io/ppja-ref/machines.html\", \"content\": \"Stardew Valley base game version 1.5.1. Chocolatier version 1.0.5 (Nexus page) [PFM] Ancient Crops - Artisan Valley Add-on version 2.1.3 (Nexus page) P [PFM]\"}]' name='tavily_search_results_json' id='c5124a55-8b19-4304-8a5e-91fa35eacef4' tool_call_id='call_1tI9gXV7GWKTPXoMIwtgfPmg' artifact={'query': '스타듀밸리 게임', 'follow_up_questions': None, 'answer': 'The base game version of Stardew Valley is 1.5.1, with the Chocolatier version being 1.0.5. The Artisan Valley Add-on is at version 2.1.3.', 'images': [], 'results': [{'url': 'https://mouseypounds.github.io/ppja-ref/machines.html', 'title': \"Mousey's PPJA (and Friends) Reference: Machines\", 'content': 'Stardew Valley base game version 1.5.1. Chocolatier version 1.0.5 (Nexus page) [PFM] Ancient Crops - Artisan Valley Add-on version 2.1.3 (Nexus page) P [PFM]', 'score': 0.3478034, 'raw_content': \"Mousey's PPJA (and Friends) Reference: Machines\\nA summary of machines with production rules from various sources. In the list below, the checkboxes can be used to show or hide\\ninformation specific to that particular source; the symbol Ⓟ indicates an official PPJA mod. Additionally there\\nare some buttons which will show or hide multiple sources at once.\\nNote that filtering is per production rule; the individual machines will always display even if all of their rules are hidden. The base game\\nSeedmaker recipe uses Poppy as an example but actually applies to a large variety of crops & seeds.\\n\\nInputs related to an entire category (e.g. Any Fruit) or tag (e.g. Lake Fish) will accept both\\nmod and base game items; this summary will have a tooltip listing relevant items from all sources, but these tooltips will not change based on the mod filtering used.\\nIn general, value and profit calculations are not attempted for these recipes, with the exceptions of \\nthe value of small cow Milk used for Any Milk and\\nthe value of small Egg used for Any Egg. Similarly, most recipes can accept ingredients of\\nany quality and in these cases\\nthe value of the basic (no-star) version is used.\\nThere are two types of profit listed: Profit (Item) is purely based on the difference between the values of the ingredients\\nand products while Profit (Hr) takes the production time into account and divides the per-item profit by the number of hours the\\nmachine takes. The latter is rounded to two decimal places. Machines which only change the quality but return the same base item (similar to Casks) are\\nnot currently documented correctly and will list zero profit.\\n\\nNavigation\\nAlembic\\nFrom Artisan Valley Machine Goods version 3.0.20\\nArtisanal Soda Maker\\nFrom [JA] Artisanal Soda Makers version 1.3.3\\nBaker's Mixer\\nFrom Baker's Life Json Asset Items version 1.1.3\\nBaker's Oven\\nFrom Baker's Life Json Asset Items version 1.1.3\\nBee House\\nFrom Stardew Valley (base game) version 1.5.1\\nButter Churn\\nFrom Artisan Valley Machine Goods version 3.0.20\\nCanning Machine\\nFrom Fresh Meat version 3.0.3\\nCarbonator\\nFrom [JA] Artisanal Soda Makers version 1.3.3\\nCharcoal Kiln\\nFrom Stardew Valley (base game) version 1.5.1\\nCheese Press\\nFrom Stardew Valley (base game) version 1.5.1\\nChocolatier's Cauldron\\nFrom Chocolatier version 1.0.5\\nCola Maker\\nFrom [JA] Artisanal Soda Makers version 1.3.3\\nCream Soda Maker\\nFrom [JA] Artisanal Soda Makers version 1.3.3\\nDNA Synthesizer\\nFrom Fresh Meat version 3.0.3\\nDehydrator\\nFrom Artisan Valley Machine Goods version 3.0.20\\nDryer\\nFrom Farmer to Florist version 3.0.9\\nDrying Rack\\nFrom Artisan Valley Machine Goods version 3.0.20\\nEspresso Machine\\nFrom Artisan Valley Machine Goods version 3.0.20\\nExtruder\\nFrom Artisan Valley Machine Goods version 3.0.20\\nFertilizer Mixer\\nFrom Manure Pack for Bulls version 1.0.2\\nForeign Cask\\nFrom Artisan Valley Machine Goods version 3.0.20\\nFurnace\\nFrom Stardew Valley (base game) version 1.5.1\\nGlass Jar\\nFrom Artisan Valley Machine Goods version 3.0.20\\nGrinder\\nFrom Artisan Valley Machine Goods version 3.0.20\\nIce Cream Machine\\nFrom Artisan Valley Machine Goods version 3.0.20\\nInfuser\\nFrom Artisan Valley Machine Goods version 3.0.20\\nJuicer\\nFrom Artisan Valley Machine Goods version 3.0.20\\nKeg\\nFrom Stardew Valley (base game) version 1.5.1\\nLoom\\nFrom Stardew Valley (base game) version 1.5.1\\nManure Grinder\\nFrom Manure Pack for Bulls version 1.0.2\\nMarble Soda Machine\\nFrom [JA] Fizzy Drinks version 2.2\\nMayonnaise Machine\\nFrom Stardew Valley (base game) version 1.5.1\\nMeat Press\\nFrom Fresh Meat version 3.0.3\\nMushroom Box\\nFrom Stardew Valley (base game) version 1.5.1\\nOil Maker\\nFrom Stardew Valley (base game) version 1.5.1\\nPepper Blender\\nFrom Artisan Valley Machine Goods version 3.0.20\\nPerfumery\\nFrom Farmer to Florist version 3.0.9\\nPreserves Jar\\nFrom Stardew Valley (base game) version 1.5.1\\nRecycling Machine\\nFrom Stardew Valley (base game) version 1.5.1\\nSeed Maker\\nFrom Stardew Valley (base game) version 1.5.1\\nShaved Ice Machine\\nFrom [JA] Shaved Ice & Frozen Treats version 1.2.2\\nSlime Egg-Press\\nFrom Stardew Valley (base game) version 1.5.1\\nSmoker\\nFrom Artisan Valley Machine Goods version 3.0.20\\nSoap Maker\\nFrom Farmer to Florist version 3.0.9\\nSoap Press\\nFrom Artisan Valley Machine Goods version 3.0.20\\nSoda Machine\\nFrom Stardew Valley (base game) version 1.5.1\\nSorbet Machine\\nFrom Artisan Valley Machine Goods version 3.0.20\\nStatue Of Perfection\\nFrom Stardew Valley (base game) version 1.5.1\\nStill\\nFrom Artisan Valley Machine Goods version 3.0.20\\nSyrup Maker\\nFrom [JA] Artisanal Soda Makers version 1.3.3\\nVinegar Cask\\nFrom Artisan Valley Machine Goods version 3.0.20\\nWax Barrel\\nFrom Artisan Valley Machine Goods version 3.0.20\\nWorm Bin\\nFrom Stardew Valley (base game) version 1.5.1\\nYogurt Jar\\nFrom Artisan Valley Machine Goods version 3.0.20\\n\"}], 'response_time': 3.31}\n",
      "content='스타듀밸리(Stardew Valley)는 농업과 생활 시뮬레이션 요소를 가진 인기 있는 인디 게임입니다. 게임에서는 플레이어가 농장을 관리하고, 작물을 재배하며, 동물을 기르고, 마을 사람들과 교류하는 등 다양한 활동을 할 수 있습니다. \\n\\n자세한 정보는 [여기](https://mouseypounds.github.io/ppja-ref/machines.html)에서 확인할 수 있습니다. 이 페이지에서는 스타듀밸리의 기계 관련 정보와 버전 사항들이 포함되어 있습니다.' additional_kwargs={'refusal': None} response_metadata={'token_usage': {'completion_tokens': 123, 'prompt_tokens': 214, 'total_tokens': 337, 'completion_tokens_details': {'accepted_prediction_tokens': 0, 'audio_tokens': 0, 'reasoning_tokens': 0, 'rejected_prediction_tokens': 0}, 'prompt_tokens_details': {'audio_tokens': 0, 'cached_tokens': 0}}, 'model_name': 'gpt-4o-mini-2024-07-18', 'system_fingerprint': 'fp_00428b782a', 'finish_reason': 'stop', 'logprobs': None} id='run-3cead85e-bb38-418b-b74b-da18580e17a1-0' usage_metadata={'input_tokens': 214, 'output_tokens': 123, 'total_tokens': 337, 'input_token_details': {'audio': 0, 'cache_read': 0}, 'output_token_details': {'audio': 0, 'reasoning': 0}}\n"
     ]
    }
   ],
   "source": [
    "question = (\"안녕하세요. 스타듀밸리 게임에 대해서 검색해주세요.\")\n",
    "events = graph.stream({\"messages\": [(\"human\", question)]}, config=config)\n",
    "\n",
    "for event in events:\n",
    "    for value in event.values():\n",
    "        print(value[\"messages\"][-1])"
   ]
  },
  {
   "cell_type": "markdown",
   "metadata": {},
   "source": [
    "LLM에게 질문을 날려서 Tavily를 이용한 웹 검색을 하는지 확인"
   ]
  },
  {
   "cell_type": "code",
   "execution_count": 16,
   "metadata": {},
   "outputs": [
    {
     "name": "stdout",
     "output_type": "stream",
     "text": [
      "당신은 \"스타듀밸리 게임\"에 대해 검색해 달라고 요청하셨습니다.\n"
     ]
    }
   ],
   "source": [
    "question = (\"제가 방금 뭘 검색해달라고 했나요?\")\n",
    "events = graph.stream({\"messages\": [(\"human\", question)]}, config=config)\n",
    "\n",
    "for event in events:\n",
    "    for value in event.values():\n",
    "        print(value[\"messages\"][-1].content)"
   ]
  },
  {
   "cell_type": "markdown",
   "metadata": {},
   "source": [
    "`MemorySaver` 체크포인터가 제대로 적용 되었는지, 이전 대화 내용 물어보기"
   ]
  }
 ],
 "metadata": {
  "kernelspec": {
   "display_name": "venv",
   "language": "python",
   "name": "python3"
  },
  "language_info": {
   "codemirror_mode": {
    "name": "ipython",
    "version": 3
   },
   "file_extension": ".py",
   "mimetype": "text/x-python",
   "name": "python",
   "nbconvert_exporter": "python",
   "pygments_lexer": "ipython3",
   "version": "3.12.0"
  }
 },
 "nbformat": 4,
 "nbformat_minor": 2
}
