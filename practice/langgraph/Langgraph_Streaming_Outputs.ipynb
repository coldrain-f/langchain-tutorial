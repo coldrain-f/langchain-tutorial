{
 "cells": [
  {
   "cell_type": "code",
   "execution_count": 78,
   "metadata": {},
   "outputs": [],
   "source": [
    "from typing import Annotated\n",
    "from typing_extensions import TypedDict\n",
    "\n",
    "from langgraph.graph import StateGraph, START, END\n",
    "from langgraph.graph.message import add_messages\n",
    "from langgraph.prebuilt import ToolNode, tools_condition\n",
    "from langgraph.checkpoint.memory import MemorySaver\n",
    "\n",
    "from langchain_community.tools.tavily_search import TavilySearchResults\n",
    "from langchain_openai import ChatOpenAI\n",
    "from langchain_core.runnables import RunnableConfig\n",
    "\n",
    "from dotenv import load_dotenv\n",
    "\n",
    "load_dotenv()\n",
    "\n",
    "class State(TypedDict):\n",
    "    messages: Annotated[list, add_messages]\n",
    "    \n",
    "tavily_search_tool = TavilySearchResults(\n",
    "max_results=1,\n",
    "include_answer=True,\n",
    "include_raw_content=True,\n",
    "include_domains=[\"github.io\", \"wikidocs.net\"],\n",
    ")\n",
    "\n",
    "tools = [tavily_search_tool]\n",
    "\n",
    "llm = ChatOpenAI(model=\"gpt-4o-mini\")\n",
    "\n",
    "llm_with_tools = llm.bind_tools(tools)\n",
    "\n",
    "\n",
    "def call_llm(state: State):\n",
    "    answer = llm_with_tools.invoke(state[\"messages\"])\n",
    "    return {\"messages\": [answer]}\n",
    "\n",
    "\n",
    "tools = ToolNode(tools=[tavily_search_tool])\n",
    "\n",
    "graph_builder = StateGraph(State)\n",
    "\n",
    "graph_builder.add_node(\"call_llm\", call_llm)\n",
    "graph_builder.add_node(\"tools\", tools)\n",
    "\n",
    "graph_builder.add_conditional_edges(\n",
    "    \"call_llm\",\n",
    "    tools_condition,\n",
    ")\n",
    "\n",
    "graph_builder.add_edge(\"tools\", \"call_llm\")\n",
    "graph_builder.add_edge(START, \"call_llm\")\n",
    "graph_builder.add_edge(\"call_llm\", END)\n",
    "\n",
    "memory = MemorySaver()\n",
    "\n",
    "graph = graph_builder.compile(checkpointer=memory)\n",
    "\n",
    "config = RunnableConfig(recursion_limit=10, configurable={\"thread_id\": \"1\"})"
   ]
  },
  {
   "cell_type": "code",
   "execution_count": 68,
   "metadata": {},
   "outputs": [
    {
     "name": "stdout",
     "output_type": "stream",
     "text": [
      "key = call_llm, value = {'messages': [AIMessage(content='', additional_kwargs={'tool_calls': [{'id': 'call_qiaIiktwUzktfuDHF7m3QORB', 'function': {'arguments': '{\"query\":\"스타듀밸리 게임\"}', 'name': 'tavily_search_results_json'}, 'type': 'function'}], 'refusal': None}, response_metadata={'token_usage': {'completion_tokens': 25, 'prompt_tokens': 554, 'total_tokens': 579, 'completion_tokens_details': {'accepted_prediction_tokens': 0, 'audio_tokens': 0, 'reasoning_tokens': 0, 'rejected_prediction_tokens': 0}, 'prompt_tokens_details': {'audio_tokens': 0, 'cached_tokens': 0}}, 'model_name': 'gpt-4o-mini-2024-07-18', 'system_fingerprint': 'fp_00428b782a', 'finish_reason': 'tool_calls', 'logprobs': None}, id='run-13b50412-8223-4a10-9ffc-0111baed2759-0', tool_calls=[{'name': 'tavily_search_results_json', 'args': {'query': '스타듀밸리 게임'}, 'id': 'call_qiaIiktwUzktfuDHF7m3QORB', 'type': 'tool_call'}], usage_metadata={'input_tokens': 554, 'output_tokens': 25, 'total_tokens': 579, 'input_token_details': {'audio': 0, 'cache_read': 0}, 'output_token_details': {'audio': 0, 'reasoning': 0}})]}\n",
      "key = tools, value = {'messages': [ToolMessage(content='[{\"url\": \"https://mouseypounds.github.io/stardew-checkup/\", \"content\": \"19 Mar 2024 - v5.0 - Support for Stardew Valley 1.6 22 Dec 2020 - v4.0 - Output Preferences and initial support for Stardew Valley 1.5 1 Dec 2019 - v3.0.2 - Fixed bug in Joja development summary 26 Nov 2019 - v3.0 - Support for Stardew Valley 1.4 22 June 2019 - v2.5 - Added Introductions quest summary to Social 30 Jan 2019 - v2.4 - Improved support for iOS save files 9 Mar 2018 - v1.7 - Added \\\\\"heart events\\\\\" to Social friendship summary 29 Jan 2018 - v1.5 - Added full friendship point summary to Social section 28 June 2017 - v1.3 - Added navigation links along right side (only visible after a save is loaded)\"}]', name='tavily_search_results_json', id='7fa306c8-b7e8-4928-994a-b6f0ce0a80f8', tool_call_id='call_qiaIiktwUzktfuDHF7m3QORB', artifact={'query': '스타듀밸리 게임', 'follow_up_questions': None, 'answer': 'The latest version of Stardew Valley game is v5.0, released on March 19, 2024, which supports version 1.6. Previous updates include v4.0 on December 22, 2020, adding output preferences and initial support for version 1.5, and v3.0 on November 26, 2019, which introduced support for version 1.4. Other updates include enhancements like the addition of \"heart events\" to the Social friendship summary in v1.7 on March 9, 2018, and full friendship point summaries in v1.5 on January 29, 2018.', 'images': [], 'results': [{'url': 'https://mouseypounds.github.io/stardew-checkup/', 'title': \"Stardew Checkup - MouseyPounds' GitHub Pages\", 'content': '19 Mar 2024 - v5.0 - Support for Stardew Valley 1.6 22 Dec 2020 - v4.0 - Output Preferences and initial support for Stardew Valley 1.5 1 Dec 2019 - v3.0.2 - Fixed bug in Joja development summary 26 Nov 2019 - v3.0 - Support for Stardew Valley 1.4 22 June 2019 - v2.5 - Added Introductions quest summary to Social 30 Jan 2019 - v2.4 - Improved support for iOS save files 9 Mar 2018 - v1.7 - Added \"heart events\" to Social friendship summary 29 Jan 2018 - v1.5 - Added full friendship point summary to Social section 28 June 2017 - v1.3 - Added navigation links along right side (only visible after a save is loaded)', 'score': 0.3059155, 'raw_content': 'Stardew Checkup\\nNavigation\\nStardew Checkup\\nAbout\\nThis app checks a Stardew Valley save file for various achievements and milestones and lets you know what is missing. Currently it checks for progress on 46 achievements as well as other progression and completion mechanics including Grandpa\\'s evaluation, Ginger Island upgrades, Perfection, and social relationships.\\nMost changed & added content from version 1.6 is supported, and 1.6-specific features should only appear in the results if the save is detected to be from that version. If you load a 1.6 save into the app, expect to see spoilers. There is some spoiler protection for major systems by using the Output Preferences to hide some section results, but the titles of the new sections will still be visible and new items will still appear in the details of old sections.\\nThe app is written in Javascript and uses jQuery, semver-compare, Javascript Cookie and pako; it is hosted on GitHub Pages at https://mouseypounds.github.io/stardew-checkup/ and the source code repository is https://github.com/MouseyPounds/stardew-checkup. Please report any bugs, suggestions, or other feedback to the topic in the Stardew official forums or to @mouseypounds on Discord.\\nChoose Save File\\nSelect Output Preferences below and then choose your save file. The summary is the part that lists whether or not an achievement / goal has been met and the details are things like the NPC event checklist or full list of still-needed items. New Sections are those which have been added for Stardew 1.6.\\nOutput Preferences (Old Sections)  Show summary and details\\n Show summary but hide details\\n Hide summary and details  \\nOutput Preferences (New Sections)  Show summary and details\\n Show summary but hide details\\n Hide summary and details  \\nSelect a save file to check:\\nPlease use the full save file named with your farmer\\'s name (or farm name) and an ID number (e.g. Fred_148093307); do not use the SaveGameInfo file as it does not contain all the necessary information.\\nDefault save file locations are:\\n\\nWindows: %AppData%\\\\StardewValley\\\\Saves\\\\\\nMac OSX & Linux: ~/.config/StardewValley/Saves/\\nProton Steam (Ubuntu): ~/.steam/debian-installation/steamapps/compatdata/413150/pfx/drive_c/users/steamuser/AppData/Roaming/StardewValley/Saves/\\n\\nWorking...\\nResults\\nChangelog\\n\\n18 Apr 2024 - v5.0.5 - Support for compressed switch saves, fixes for 1.6.4, remove Truffle Crab from NPC list\\n10 Apr 2024 - v5.0.4 - Book power bugfix\\n2 Apr 2024 - v5.0.3 - A couple of really old bugfixes\\n30 Mar 2024 - v5.0.2 - Finally added slightly more friendly error-handling\\n28 Mar 2024 - v5.0.1 - Remove monster who snuck into Social summary\\n19 Mar 2024 - v5.0 - Support for Stardew Valley 1.6\\n7 Jan 2021 - v4.0.3 - More Monster Hunting updates, added Special Orders tracking\\n3 Jan 2021 - v4.0.2 - Updated Monster Hunting counts, ignoring special furniture items in fishing, fix museum details\\n23 Dec 2020 - v4.0.1 - Fixed some multiplayer parsing bugs.\\n22 Dec 2020 - v4.0 - Output Preferences and initial support for Stardew Valley 1.5\\n24 Jul 2020 - v3.0.5 - Small bugfix on missable event check; updated forum link in footer\\n27 Dec 2019 - v3.0.4 - Fixed event ID for Maru\\'s 14-heart (thanks SweetGarage) and another spelling error (thanks debashisbiswas)\\n7 Dec 2019 - v3.0.3 - Version detection changed again to handle semver like 1.4.2\\n1 Dec 2019 - v3.0.2 - Fixed bug in Joja development summary\\n30 Nov 2019 - v3.0.1 - Version detection should now properly identify day one 1.4 saves\\n26 Nov 2019 - v3.0 - Support for Stardew Valley 1.4\\n15 Aug 2019 - v2.5.1 - Fixed duplicate Social output; PR from debashisbiswas\\n22 June 2019 - v2.5 - Added Introductions quest summary to Social\\n\\nOlder changes\\nShow\\n\\n22 Feb 2019 - v2.4.1 - Fixed bug with detecting valid farmhands on MP saves\\n30 Jan 2019 - v2.4 - Improved support for iOS save files\\n2 Jan 2019 - v2.3.2 - Multiplayer marriage detection in Grandpa\\'s evaluation\\n1 Jan 2019 - v2.3.1 - Fixed bug with multiplayer processing introduced by last update\\n30 Dec 2018 - v2.3 - Improved handling of mod content for cooking & crafting summaries\\n3 Oct 2018 - v2.2.3 - Mark some Penny heart events impossible after Pam house; stardrop wording fix\\n7 Sept 2018 - v2.2.2 - Joja achievement no longer marked impossible unless CC is fully complete\\n1 Sept 2018 - v2.2.1 - Detect crafting recipes from mods; collapse older entries in changelog\\n29 Aug 2018 - v2.2 - Added the polyamory events to social summary & clarified multi-NPC events\\n20 Aug 2018 - v2.1.2 - Blobfish spelling fix and better input sanitization\\n12 Aug 2018 - v2.1.1 - Another bugfix for fish count (Pearls)\\n12 Aug 2018 - v2.1 - Individual player output can now be toggled on/off on multiplayer saves\\n11 Aug 2018 - v2.0.2 - Bugfix in fish count related to Secret Notes\\n25 June 2018 - v2.0.1 - Sanity-checking on cooking results and NPCs\\n6 June 2018 - v2.0 - Multiplayer support for all relevant sections\\n26 May 2018 - v1.9.7 - Secret Note reward bugfixes\\n24 May 2018 - v1.9.6 - Secret Note reward progress; favicon; change initial spouse friendship max to Stardrop threshold\\n21 May 2018 - v1.9.5 - Work around multiplayer mine level weirdness; add \"angry\" status after confrontation event\\n14 May 2018 - v1.9.4 - Fix quest completion for SV 1.2 that got broken in last update\\n12 May 2018 - v1.9.3 - Fix quest completion to only look at host\\n10 May 2018 - v1.9.2 - Friendship status, including \"guesses\" for 1.2\\n4 May 2018 - v1.9.1 - Additional support for version 1.3 features (work in progress)\\n1 May 2018 - v1.9 - Basic support for version 1.3 (fix friendship parsing); new content support will come later\\n14 Apr 2018 - v1.8 - Rusty Key counter on museum summary and minor formatting changes\\n9 Mar 2018 - v1.7 - Added \"heart events\" to Social friendship summary\\n7 Feb 2018 - v1.6 - Wiki links for social summary and additional info on current skill level\\n29 Jan 2018 - v1.5 - Added full friendship point summary to Social section\\n10 Sept 2017 - v1.4 - Minor bugfixes\\n28 June 2017 - v1.3 - Added navigation links along right side (only visible after a save is loaded)\\n27 June 2017 - v1.2 - Community Center bundle & Joja Mart form progress\\n23 June 2017 - v1.1 - Added wiki links for needed item lists\\n22 June 2017 - v1.0 - Initial Release\\n\\nStardew Apps by MouseyPounds: Stardew Checkup || Stardew Predictor || Stardew Fair Helper\\nOther Stardew Valley resources: Website || Steam Page || GOG Page || Wiki || Forums || Subreddit || Discord\\nStardew Valley is developed by ConcernedApe and self-published on most platforms.'}], 'response_time': 1.97})]}\n",
      "key = call_llm, value = {'messages': [AIMessage(content='스타듀밸리(Stardew Valley)는 농장 경영과 생활 시뮬레이션 요소를 결합한 인기 있는 게임입니다. 플레이어는 조부모로부터 물려받은 농장에서 새로운 생활을 시작하며, 작물 재배, 동물 사육, 어업, 광물 채굴, 마을 주민들과의 관계 형성을 통해 다양한 활동을 할 수 있습니다.\\n\\n게임은 다양한 업데이트를 통해 새로운 콘텐츠와 기능을 추가하고 있으며, 현재 버전은 1.6입니다. 이러한 업데이트는 게임의 기능성을 개선하고 플레이어 경험을 향상시키기 위해 지속적으로 진행되고 있습니다.\\n\\n더 자세한 내용은 [여기](https://mouseypounds.github.io/stardew-checkup/)에서 확인하실 수 있습니다.', additional_kwargs={'refusal': None}, response_metadata={'token_usage': {'completion_tokens': 167, 'prompt_tokens': 807, 'total_tokens': 974, 'completion_tokens_details': {'accepted_prediction_tokens': 0, 'audio_tokens': 0, 'reasoning_tokens': 0, 'rejected_prediction_tokens': 0}, 'prompt_tokens_details': {'audio_tokens': 0, 'cached_tokens': 0}}, 'model_name': 'gpt-4o-mini-2024-07-18', 'system_fingerprint': 'fp_00428b782a', 'finish_reason': 'stop', 'logprobs': None}, id='run-5504db66-6b95-4903-8761-2fd68f9b95ba-0', usage_metadata={'input_tokens': 807, 'output_tokens': 167, 'total_tokens': 974, 'input_token_details': {'audio': 0, 'cache_read': 0}, 'output_token_details': {'audio': 0, 'reasoning': 0}})]}\n"
     ]
    }
   ],
   "source": [
    "input = {\"messages\": [(\"human\", \"안녕하세요. 스타듀밸리 게임에 대해서 검색해주세요.\")]}\n",
    "events = graph.stream(input=input, config=config)\n",
    "\n",
    "for event in events:\n",
    "    for key, value in event.items():\n",
    "        print(f\"key = {key}, value = {value}\")"
   ]
  },
  {
   "cell_type": "markdown",
   "metadata": {},
   "source": [
    "`event.items()` 메서드로 각 단계 별로 key와 value를 받아올 수 있는데,\n",
    "\n",
    "key는 노드의 이름이 `str`로 저장되어 있고 value에는 해당 노드 단계의 출력 값이 Dict로 저장되어 있다.\n",
    "(기본 값인 stream_mode=\"updates\" 기준)\n"
   ]
  },
  {
   "cell_type": "code",
   "execution_count": null,
   "metadata": {},
   "outputs": [
    {
     "name": "stdout",
     "output_type": "stream",
     "text": [
      "==================================\u001b[1m Ai Message \u001b[0m==================================\n",
      "Tool Calls:\n",
      "  tavily_search_results_json (call_09TazPRc1fRp06BxqRvNjhA6)\n",
      " Call ID: call_09TazPRc1fRp06BxqRvNjhA6\n",
      "  Args:\n",
      "    query: 스타듀밸리 게임\n",
      "None\n",
      "=================================\u001b[1m Tool Message \u001b[0m=================================\n",
      "Name: tavily_search_results_json\n",
      "\n",
      "[{\"url\": \"https://mouseypounds.github.io/stardew-checkup/\", \"content\": \"19 Mar 2024 - v5.0 - Support for Stardew Valley 1.6 22 Dec 2020 - v4.0 - Output Preferences and initial support for Stardew Valley 1.5 1 Dec 2019 - v3.0.2 - Fixed bug in Joja development summary 26 Nov 2019 - v3.0 - Support for Stardew Valley 1.4 22 June 2019 - v2.5 - Added Introductions quest summary to Social 30 Jan 2019 - v2.4 - Improved support for iOS save files 9 Mar 2018 - v1.7 - Added \\\"heart events\\\" to Social friendship summary 29 Jan 2018 - v1.5 - Added full friendship point summary to Social section 28 June 2017 - v1.3 - Added navigation links along right side (only visible after a save is loaded)\"}]\n",
      "None\n",
      "==================================\u001b[1m Ai Message \u001b[0m==================================\n",
      "\n",
      "스타듀밸리(Stardew Valley)는 농업과 소셜 시뮬레이션 요소를 결합한 인기 있는 독립 비디오 게임입니다. 이 게임에서 플레이어는 고향의 농장을 물려받아 새로운 삶을 시작하게 되며, 다양한 활동을 통해 농장을 발전시키고 지역 사회와 소통하는 목표를 가지고 있습니다.\n",
      "\n",
      "주요 기능으로는 작물 재배, 동물 사육, 어업, 그리고 광산 탐험 등이 있으며, 마을 주민들과의 관계 강화, 이벤트 참여, 퀘스트 수행 등을 통해 게임을 진행할 수 있습니다. 여러 업데이트가 이루어지며 새로운 콘텐츠와 기능이 추가되고 있어, 플레이어들에게 지속적인 흥미를 제공합니다.\n",
      "\n",
      "더 많은 정보는 [여기](https://mouseypounds.github.io/stardew-checkup/)에서 확인할 수 있습니다.\n",
      "None\n"
     ]
    }
   ],
   "source": [
    "input = {\"messages\": [(\"human\", \"안녕하세요. 스타듀밸리 게임에 대해서 검색해주세요.\")]}\n",
    "events = graph.stream(input=input, config=config)\n",
    "\n",
    "for event in events:\n",
    "    for key, value in event.items():\n",
    "        if \"messages\" in value:\n",
    "            print(value[\"messages\"][-1].pretty_print())"
   ]
  },
  {
   "cell_type": "markdown",
   "metadata": {},
   "source": [
    "`pretty_print()` 메서드로 메시지를 예쁘게 출력해 볼 수 있다.\n"
   ]
  },
  {
   "cell_type": "code",
   "execution_count": 70,
   "metadata": {},
   "outputs": [
    {
     "name": "stdout",
     "output_type": "stream",
     "text": [
      "dict_keys(['messages', '__start__', 'call_llm', 'tools', 'branch:__start__:__self__:call_llm', 'branch:__start__:__self__:tools', 'branch:call_llm:__self__:call_llm', 'branch:call_llm:__self__:tools', 'branch:tools:__self__:call_llm', 'branch:tools:__self__:tools', 'start:call_llm', 'branch:call_llm:tools_condition:tools'])\n"
     ]
    }
   ],
   "source": [
    "print(graph.channels.keys())"
   ]
  },
  {
   "cell_type": "markdown",
   "metadata": {},
   "source": [
    "`channels.keys()` 메서드로 출력되는 항목의 Key를 확인 할 수 있다."
   ]
  },
  {
   "cell_type": "code",
   "execution_count": 79,
   "metadata": {},
   "outputs": [
    {
     "name": "stdout",
     "output_type": "stream",
     "text": [
      "\n",
      "[{\"url\": \"https://mouseypounds.github.io/stardew-checkup/\", \"content\": \"19 Mar 2024 - v5.0 - Support for Stardew Valley 1.6 22 Dec 2020 - v4.0 - Output Preferences and initial support for Stardew Valley 1.5 1 Dec 2019 - v3.0.2 - Fixed bug in Joja development summary 26 Nov 2019 - v3.0 - Support for Stardew Valley 1.4 22 June 2019 - v2.5 - Added Introductions quest summary to Social 30 Jan 2019 - v2.4 - Improved support for iOS save files 9 Mar 2018 - v1.7 - Added \\\"heart events\\\" to Social friendship summary 29 Jan 2018 - v1.5 - Added full friendship point summary to Social section 28 June 2017 - v1.3 - Added navigation links along right side (only visible after a save is loaded)\"}]\n",
      "스타듀밸리(Stardew Valley)는 농장 경영과 삶의 시뮬레이션을 결합한 인기 게임입니다. 플레이어는 작은 농장을 물려받고, 이를 발전시켜 나가면서 다양한 활동을 수행할 수 있습니다. 농사, 어업, 광산 탐험, 동물 기르기, 마을 주민들과의 상호작용 등이 핵심 요소입니다.\n",
      "\n",
      "더 자세한 정보를 원하시면 [여기를 클릭해주세요](https://mouseypounds.github.io/stardew-checkup/). 이 링크는 스타듀밸리의 업데이트와 관련된 정보를 제공합니다.\n"
     ]
    }
   ],
   "source": [
    "input = {\"messages\": [(\"human\", \"안녕하세요. 스타듀밸리 게임에 대해서 검색해주세요.\")]}\n",
    "events = graph.stream(input=input, config=config, output_keys=[\"messages\"])\n",
    "\n",
    "for event in events:\n",
    "    for key, value in event.items():\n",
    "        if \"messages\" in value:\n",
    "            print(value[\"messages\"][-1].content)"
   ]
  }
 ],
 "metadata": {
  "kernelspec": {
   "display_name": "venv",
   "language": "python",
   "name": "python3"
  },
  "language_info": {
   "codemirror_mode": {
    "name": "ipython",
    "version": 3
   },
   "file_extension": ".py",
   "mimetype": "text/x-python",
   "name": "python",
   "nbconvert_exporter": "python",
   "pygments_lexer": "ipython3",
   "version": "3.12.0"
  }
 },
 "nbformat": 4,
 "nbformat_minor": 2
}
